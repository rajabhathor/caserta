{
 "cells": [
  {
   "cell_type": "markdown",
   "metadata": {},
   "source": [
    "# PySpark Evaluation\n",
    "\n",
    "Date:  May 19, 2018\n",
    "\n",
    "Candidate:  << Raj >>"
   ]
  },
  {
   "cell_type": "code",
   "execution_count": 1,
   "metadata": {},
   "outputs": [
    {
     "data": {
      "text/plain": [
       "878049"
      ]
     },
     "execution_count": 1,
     "metadata": {},
     "output_type": "execute_result"
    }
   ],
   "source": [
    "# fill in with command to read parquet file into a dataframe\n",
    "parqFileName = 's3://caserta-bucket1/train.pqt'\n",
    "from pyspark import SparkContext\n",
    "from pyspark.sql import SQLContext\n",
    "from pyspark import SparkConf\n",
    "from pyspark.sql import SparkSession\n",
    "\n",
    "sc = SparkContext.getOrCreate()\n",
    "sqlContext = SQLContext(sc)\n",
    "df = sqlContext.read.parquet(parqFileName)\n",
    "df.count()\n"
   ]
  },
  {
   "cell_type": "markdown",
   "metadata": {},
   "source": [
    "### Get the total count of crimes that happened on a Tuesday"
   ]
  },
  {
   "cell_type": "code",
   "execution_count": 60,
   "metadata": {},
   "outputs": [
    {
     "data": {
      "text/plain": [
       "124965"
      ]
     },
     "execution_count": 60,
     "metadata": {},
     "output_type": "execute_result"
    }
   ],
   "source": [
    "df.where(df.DayOfWeek=='Tuesday').count()"
   ]
  },
  {
   "cell_type": "code",
   "execution_count": 5,
   "metadata": {},
   "outputs": [
    {
     "data": {
      "text/plain": [
       "DataFrame[Dates: timestamp, Category: string, Descript: string, DayOfWeek: string, PdDistrict: string, Resolution: string, Address: string, X: float, Y: float]"
      ]
     },
     "execution_count": 5,
     "metadata": {},
     "output_type": "execute_result"
    }
   ],
   "source": [
    "df\n"
   ]
  },
  {
   "cell_type": "code",
   "execution_count": 26,
   "metadata": {},
   "outputs": [
    {
     "name": "stdout",
     "output_type": "stream",
     "text": [
      "root\n",
      " |-- Dates: timestamp (nullable = true)\n",
      " |-- Category: string (nullable = true)\n",
      " |-- Descript: string (nullable = true)\n",
      " |-- DayOfWeek: string (nullable = true)\n",
      " |-- PdDistrict: string (nullable = true)\n",
      " |-- Resolution: string (nullable = true)\n",
      " |-- Address: string (nullable = true)\n",
      " |-- X: float (nullable = true)\n",
      " |-- Y: float (nullable = true)\n",
      "\n"
     ]
    }
   ],
   "source": [
    "df.printSchema()"
   ]
  },
  {
   "cell_type": "markdown",
   "metadata": {},
   "source": [
    "### Which Police District has the most crime?"
   ]
  },
  {
   "cell_type": "code",
   "execution_count": 66,
   "metadata": {},
   "outputs": [
    {
     "name": "stdout",
     "output_type": "stream",
     "text": [
      "+-------+----------+\n",
      "|summary|PdDistrict|\n",
      "+-------+----------+\n",
      "|  count|    878049|\n",
      "|   mean|      null|\n",
      "| stddev|      null|\n",
      "|    min|   BAYVIEW|\n",
      "|    max|TENDERLOIN|\n",
      "+-------+----------+\n",
      "\n"
     ]
    }
   ],
   "source": [
    "df.describe('PdDistrict').show()"
   ]
  },
  {
   "cell_type": "markdown",
   "metadata": {},
   "source": [
    "### Find the maximum length of each string column"
   ]
  },
  {
   "cell_type": "code",
   "execution_count": 62,
   "metadata": {},
   "outputs": [
    {
     "name": "stdout",
     "output_type": "stream",
     "text": [
      "+---------------------+---------------------+----------------------+-----------------------+-----------------------+--------------------+\n",
      "|max(length(Category))|max(length(Descript))|max(length(DayOfWeek))|max(length(PdDistrict))|max(length(Resolution))|max(length(Address))|\n",
      "+---------------------+---------------------+----------------------+-----------------------+-----------------------+--------------------+\n",
      "|                   27|                   73|                     9|                     10|                     38|                  44|\n",
      "+---------------------+---------------------+----------------------+-----------------------+-----------------------+--------------------+\n",
      "\n"
     ]
    }
   ],
   "source": [
    "df.registerTempTable(\"dft\")\n",
    "sqlContext.sql(\"select max(length(Category)), max(length(Descript)), max(length(DayOfWeek)), max(length(PdDistrict)), max(length(Resolution)), max(length(Address))  from dft\").show()"
   ]
  },
  {
   "cell_type": "markdown",
   "metadata": {},
   "source": [
    "### Find the min, max, and average of each column that is a number of any type"
   ]
  },
  {
   "cell_type": "code",
   "execution_count": 48,
   "metadata": {},
   "outputs": [
    {
     "name": "stdout",
     "output_type": "stream",
     "text": [
      "+----------+------+-------------------+--------+------+-----------------+\n",
      "|    min(X)|max(X)|             avg(X)|  min(Y)|max(Y)|           avg(Y)|\n",
      "+----------+------+-------------------+--------+------+-----------------+\n",
      "|-122.51364|-120.5|-122.42261639461971|37.70788|  90.0|37.77102031342325|\n",
      "+----------+------+-------------------+--------+------+-----------------+\n",
      "\n"
     ]
    }
   ],
   "source": [
    "sqlContext.sql(\"select min(X), max(X), avg(X), min(Y), max(Y), avg(Y) from dft\").show()"
   ]
  },
  {
   "cell_type": "markdown",
   "metadata": {},
   "source": [
    "### Create a new dataframe with a new integer column called \"addr_words\" to have the number of words contained in the Address column.  Display the first 5 rows of Address and addr_words."
   ]
  },
  {
   "cell_type": "code",
   "execution_count": 67,
   "metadata": {},
   "outputs": [
    {
     "name": "stdout",
     "output_type": "stream",
     "text": [
      "+--------------------+--------------+--------------------+---------+----------+--------------+--------------------+-----------+---------+----------+\n",
      "|               Dates|      Category|            Descript|DayOfWeek|PdDistrict|    Resolution|             Address|          X|        Y|addr_words|\n",
      "+--------------------+--------------+--------------------+---------+----------+--------------+--------------------+-----------+---------+----------+\n",
      "|2015-05-14 03:53:...|      WARRANTS|      WARRANT ARREST|Wednesday|  NORTHERN|ARREST, BOOKED|  OAK ST / LAGUNA ST| -122.42589|37.774597|         5|\n",
      "|2015-05-14 03:53:...|OTHER OFFENSES|TRAFFIC VIOLATION...|Wednesday|  NORTHERN|ARREST, BOOKED|  OAK ST / LAGUNA ST| -122.42589|37.774597|         5|\n",
      "|2015-05-14 03:33:...|OTHER OFFENSES|TRAFFIC VIOLATION...|Wednesday|  NORTHERN|ARREST, BOOKED|VANNESS AV / GREE...| -122.42436|37.800415|         5|\n",
      "|2015-05-14 03:30:...| LARCENY/THEFT|GRAND THEFT FROM ...|Wednesday|  NORTHERN|          NONE|1500 Block of LOM...|-122.426994|37.800873|         5|\n",
      "|2015-05-14 03:30:...| LARCENY/THEFT|GRAND THEFT FROM ...|Wednesday|      PARK|          NONE|100 Block of BROD...|-122.438736| 37.77154|         5|\n",
      "|2015-05-14 03:30:...| LARCENY/THEFT|GRAND THEFT FROM ...|Wednesday| INGLESIDE|          NONE| 0 Block of TEDDY AV| -122.40325|37.713432|         5|\n",
      "|2015-05-14 03:30:...| VEHICLE THEFT|   STOLEN AUTOMOBILE|Wednesday| INGLESIDE|          NONE| AVALON AV / PERU AV|-122.423325| 37.72514|         5|\n",
      "|2015-05-14 03:30:...| VEHICLE THEFT|   STOLEN AUTOMOBILE|Wednesday|   BAYVIEW|          NONE|KIRKWOOD AV / DON...| -122.37128|37.727566|         5|\n",
      "|2015-05-14 03:00:...| LARCENY/THEFT|GRAND THEFT FROM ...|Wednesday|  RICHMOND|          NONE|600 Block of 47TH AV|-122.508194|  37.7766|         5|\n",
      "|2015-05-14 03:00:...| LARCENY/THEFT|GRAND THEFT FROM ...|Wednesday|   CENTRAL|          NONE|JEFFERSON ST / LE...| -122.41909|  37.8078|         5|\n",
      "|2015-05-14 02:58:...| LARCENY/THEFT|PETTY THEFT FROM ...|Wednesday|   CENTRAL|          NONE|JEFFERSON ST / LE...| -122.41909|  37.8078|         5|\n",
      "|2015-05-14 02:30:...|OTHER OFFENSES|MISCELLANEOUS INV...|Wednesday|   TARAVAL|          NONE|0 Block of ESCOLT...| -122.48798|37.737667|         5|\n",
      "|2015-05-14 02:30:...|     VANDALISM|MALICIOUS MISCHIE...|Wednesday|TENDERLOIN|          NONE|  TURK ST / JONES ST|-122.412415|37.783005|         5|\n",
      "|2015-05-14 02:06:...| LARCENY/THEFT|GRAND THEFT FROM ...|Wednesday|  NORTHERN|          NONE|FILLMORE ST / GEA...|-122.432915|37.784355|         5|\n",
      "|2015-05-14 02:00:...|  NON-CRIMINAL|      FOUND PROPERTY|Wednesday|   BAYVIEW|          NONE|200 Block of WILL...| -122.39774|37.729935|         5|\n",
      "|2015-05-14 02:00:...|  NON-CRIMINAL|      FOUND PROPERTY|Wednesday|   BAYVIEW|          NONE|0 Block of MENDEL...| -122.38369| 37.74319|         5|\n",
      "|2015-05-14 02:00:...|       ROBBERY|ROBBERY, ARMED WI...|Wednesday|TENDERLOIN|          NONE|  EDDY ST / JONES ST|  -122.4126| 37.78393|         5|\n",
      "|2015-05-14 01:55:...|       ASSAULT|AGGRAVATED ASSAUL...|Wednesday| INGLESIDE|          NONE|GODEUS ST / MISSI...|-122.421684| 37.74282|         5|\n",
      "|2015-05-14 01:40:...|OTHER OFFENSES|   TRAFFIC VIOLATION|Wednesday|   BAYVIEW|ARREST, BOOKED|MENDELL ST / HUDS...|  -122.3864|37.738983|         5|\n",
      "|2015-05-14 01:30:...|  NON-CRIMINAL|      FOUND PROPERTY|Wednesday|TENDERLOIN|          NONE|100 Block of JONE...| -122.41225|37.782555|         5|\n",
      "|2015-05-14 01:30:...| LARCENY/THEFT|GRAND THEFT FROM ...|Wednesday| INGLESIDE|          NONE|200 Block of EVEL...| -122.44939| 37.74267|         5|\n",
      "|2015-05-14 01:17:...|       ROBBERY|ROBBERY, BODILY F...|Wednesday| INGLESIDE|          NONE|1600 Block of VAL...| -122.42027|37.747334|         5|\n",
      "|2015-05-14 01:11:...|      WARRANTS|      WARRANT ARREST|Wednesday|TENDERLOIN|          NONE|100 Block of JONE...| -122.41225|37.782555|         5|\n",
      "|2015-05-14 01:11:...|  NON-CRIMINAL|STAY AWAY OR COUR...|Wednesday|TENDERLOIN|          NONE|100 Block of JONE...| -122.41225|37.782555|         5|\n",
      "|2015-05-14 01:10:...| LARCENY/THEFT|GRAND THEFT FROM ...|Wednesday|  NORTHERN|          NONE|FILLMORE ST / LOM...| -122.43605|37.799843|         5|\n",
      "|2015-05-14 01:00:...|  NON-CRIMINAL|       LOST PROPERTY|Wednesday|TENDERLOIN|          NONE|300 Block of OFAR...| -122.41051|37.786045|         5|\n",
      "|2015-05-14 01:00:...| LARCENY/THEFT|GRAND THEFT FROM ...|Wednesday|  NORTHERN|          NONE|2000 Block of BUS...|-122.431015|37.787388|         5|\n",
      "|2015-05-14 01:00:...| LARCENY/THEFT|GRAND THEFT FROM ...|Wednesday| INGLESIDE|          NONE|500 Block of COLL...| -122.42365|37.732555|         5|\n",
      "|2015-05-14 01:00:...| LARCENY/THEFT|ATTEMPTED THEFT F...|Wednesday|   TARAVAL|          NONE|19TH AV / SANTIAG...| -122.47578| 37.74492|         5|\n",
      "|2015-05-14 00:56:...|OTHER OFFENSES|MISCELLANEOUS INV...|Wednesday|   TARAVAL|          NONE|2000 Block of 41S...| -122.49979|37.748516|         5|\n",
      "|2015-05-14 00:54:...| LARCENY/THEFT|GRAND THEFT FROM ...|Wednesday|  NORTHERN|          NONE|1300 Block of WEB...|-122.431046| 37.78303|         5|\n",
      "|2015-05-14 00:50:...|  NON-CRIMINAL|CIVIL SIDEWALKS, ...|Wednesday|   MISSION|ARREST, BOOKED|400 Block of CAST...| -122.43515| 37.76176|         5|\n",
      "|2015-05-14 00:45:...|     VANDALISM|MALICIOUS MISCHIE...|Wednesday|  NORTHERN|          NONE|1500 Block of FIL...| -122.43275|37.783844|         5|\n",
      "|2015-05-14 00:30:...| LARCENY/THEFT|GRAND THEFT FROM ...|Wednesday|  NORTHERN|          NONE|1600 Block of WEB...| -122.43131| 37.78587|         5|\n",
      "|2015-05-14 00:30:...|     VANDALISM|MALICIOUS MISCHIE...|Wednesday|  NORTHERN|          NONE|1600 Block of WEB...| -122.43131| 37.78587|         5|\n",
      "|2015-05-14 00:30:...| LARCENY/THEFT|GRAND THEFT FROM ...|Wednesday|  SOUTHERN|          NONE|    KING ST / 3RD ST|-122.391846|37.778126|         5|\n",
      "|2015-05-14 00:30:...| LARCENY/THEFT|GRAND THEFT FROM ...|Wednesday|  NORTHERN|          NONE|VALLEJO ST / BUCH...| -122.43183|37.795643|         5|\n",
      "|2015-05-14 00:30:...| LARCENY/THEFT|GRAND THEFT FROM ...|Wednesday|  NORTHERN|          NONE|CALIFORNIA ST / B...| -122.43055| 37.78932|         5|\n",
      "|2015-05-14 00:29:...|   WEAPON LAWS|  SUSPICIOUS PACKAGE|Wednesday|   TARAVAL|          NONE|1400 Block of HOL...| -122.47318|37.721565|         5|\n",
      "|2015-05-14 00:25:...|     VANDALISM|MALICIOUS MISCHIE...|Wednesday| INGLESIDE|          NONE|0 Block of WINDIN...| -122.43245|37.710835|         5|\n",
      "|2015-05-14 00:23:...|  NON-CRIMINAL|AIDED CASE, MENTA...|Wednesday|  SOUTHERN|          NONE|700 Block of MARK...|  -122.4053| 37.78631|         5|\n",
      "|2015-05-14 00:15:...| LARCENY/THEFT|PETTY THEFT FROM ...|Wednesday|  SOUTHERN|          NONE|1600 Block of MAR...| -122.42213|37.773033|         5|\n",
      "|2015-05-14 00:15:...| LARCENY/THEFT|PETTY THEFT SHOPL...|Wednesday|TENDERLOIN|          NONE|0 Block of STOCKT...| -122.40635| 37.78603|         5|\n",
      "|2015-05-14 00:06:...|OTHER OFFENSES| PROBATION VIOLATION|Wednesday|   BAYVIEW|ARREST, BOOKED|300 Block of WILL...|-122.399445|37.730175|         5|\n",
      "|2015-05-14 00:06:...|OTHER OFFENSES|STAY AWAY ORDER V...|Wednesday|   BAYVIEW|ARREST, BOOKED|300 Block of WILL...|-122.399445|37.730175|         5|\n",
      "|2015-05-14 00:00:...|OTHER OFFENSES|DRIVERS LICENSE, ...|Wednesday|   CENTRAL| ARREST, CITED|800 Block of LEAV...|-122.415215| 37.78887|         5|\n",
      "|2015-05-14 00:00:...| VEHICLE THEFT|   STOLEN MOTORCYCLE|Wednesday| INGLESIDE|          NONE|0 Block of CRESCE...|-122.423706|37.735233|         5|\n",
      "|2015-05-14 00:00:...| LARCENY/THEFT|GRAND THEFT FROM ...|Wednesday|   TARAVAL|          NONE|LINCOLN WY / 14TH AV|  -122.4718|37.765686|         5|\n",
      "|2015-05-13 23:55:...|  NON-CRIMINAL|AIDED CASE, MENTA...|Wednesday|   CENTRAL|          NONE|SUTTER ST / POWEL...|  -122.4086|37.789223|         5|\n",
      "|2015-05-13 23:52:...|      BURGLARY|BURGLARY, VEHICLE...|Wednesday|      PARK|ARREST, BOOKED|1500 Block of HAI...| -122.44776|37.769848|         5|\n",
      "+--------------------+--------------+--------------------+---------+----------+--------------+--------------------+-----------+---------+----------+\n",
      "only showing top 50 rows\n",
      "\n"
     ]
    }
   ],
   "source": [
    "import pyspark.sql.functions as f\n",
    "dfaddrwords = dfaddrwords.withColumn('addr_words', f.size(f.split(f.col('Address'), ' ')))\n",
    "dfaddrwords.show(50)"
   ]
  },
  {
   "cell_type": "markdown",
   "metadata": {},
   "source": [
    "### What is the maximum and minimum number of words in the Address column?"
   ]
  },
  {
   "cell_type": "code",
   "execution_count": 81,
   "metadata": {},
   "outputs": [
    {
     "name": "stdout",
     "output_type": "stream",
     "text": [
      "+---------------+---------------+\n",
      "|max(addr_words)|min(addr_words)|\n",
      "+---------------+---------------+\n",
      "|             10|              3|\n",
      "+---------------+---------------+\n",
      "\n"
     ]
    }
   ],
   "source": [
    "dfaddrwords.select(f.max('addr_words'), f.min('addr_words')).show() \n"
   ]
  },
  {
   "cell_type": "markdown",
   "metadata": {},
   "source": [
    "### Rename the column \"PdDistrict\" to \"PoliceDistrict\" and print the schema"
   ]
  },
  {
   "cell_type": "code",
   "execution_count": 89,
   "metadata": {},
   "outputs": [
    {
     "name": "stdout",
     "output_type": "stream",
     "text": [
      "+--------------------+--------------+--------------------+--------------------+--------------+\n",
      "|               Dates|      Category|            Descript|             Address|PoliceDistrict|\n",
      "+--------------------+--------------+--------------------+--------------------+--------------+\n",
      "|2015-05-14 03:53:...|      WARRANTS|      WARRANT ARREST|  OAK ST / LAGUNA ST|      NORTHERN|\n",
      "|2015-05-14 03:53:...|OTHER OFFENSES|TRAFFIC VIOLATION...|  OAK ST / LAGUNA ST|      NORTHERN|\n",
      "|2015-05-14 03:33:...|OTHER OFFENSES|TRAFFIC VIOLATION...|VANNESS AV / GREE...|      NORTHERN|\n",
      "|2015-05-14 03:30:...| LARCENY/THEFT|GRAND THEFT FROM ...|1500 Block of LOM...|      NORTHERN|\n",
      "|2015-05-14 03:30:...| LARCENY/THEFT|GRAND THEFT FROM ...|100 Block of BROD...|          PARK|\n",
      "|2015-05-14 03:30:...| LARCENY/THEFT|GRAND THEFT FROM ...| 0 Block of TEDDY AV|     INGLESIDE|\n",
      "|2015-05-14 03:30:...| VEHICLE THEFT|   STOLEN AUTOMOBILE| AVALON AV / PERU AV|     INGLESIDE|\n",
      "|2015-05-14 03:30:...| VEHICLE THEFT|   STOLEN AUTOMOBILE|KIRKWOOD AV / DON...|       BAYVIEW|\n",
      "|2015-05-14 03:00:...| LARCENY/THEFT|GRAND THEFT FROM ...|600 Block of 47TH AV|      RICHMOND|\n",
      "|2015-05-14 03:00:...| LARCENY/THEFT|GRAND THEFT FROM ...|JEFFERSON ST / LE...|       CENTRAL|\n",
      "|2015-05-14 02:58:...| LARCENY/THEFT|PETTY THEFT FROM ...|JEFFERSON ST / LE...|       CENTRAL|\n",
      "|2015-05-14 02:30:...|OTHER OFFENSES|MISCELLANEOUS INV...|0 Block of ESCOLT...|       TARAVAL|\n",
      "|2015-05-14 02:30:...|     VANDALISM|MALICIOUS MISCHIE...|  TURK ST / JONES ST|    TENDERLOIN|\n",
      "|2015-05-14 02:06:...| LARCENY/THEFT|GRAND THEFT FROM ...|FILLMORE ST / GEA...|      NORTHERN|\n",
      "|2015-05-14 02:00:...|  NON-CRIMINAL|      FOUND PROPERTY|200 Block of WILL...|       BAYVIEW|\n",
      "|2015-05-14 02:00:...|  NON-CRIMINAL|      FOUND PROPERTY|0 Block of MENDEL...|       BAYVIEW|\n",
      "|2015-05-14 02:00:...|       ROBBERY|ROBBERY, ARMED WI...|  EDDY ST / JONES ST|    TENDERLOIN|\n",
      "|2015-05-14 01:55:...|       ASSAULT|AGGRAVATED ASSAUL...|GODEUS ST / MISSI...|     INGLESIDE|\n",
      "|2015-05-14 01:40:...|OTHER OFFENSES|   TRAFFIC VIOLATION|MENDELL ST / HUDS...|       BAYVIEW|\n",
      "|2015-05-14 01:30:...|  NON-CRIMINAL|      FOUND PROPERTY|100 Block of JONE...|    TENDERLOIN|\n",
      "+--------------------+--------------+--------------------+--------------------+--------------+\n",
      "only showing top 20 rows\n",
      "\n"
     ]
    }
   ],
   "source": [
    "dfrename = df.selectExpr(\"Dates\", \"Category\", \"Descript\", \"Address\", \"PdDistrict as PoliceDistrict\").show()\n"
   ]
  },
  {
   "cell_type": "markdown",
   "metadata": {},
   "source": [
    "### Consider the following code snippet ..."
   ]
  },
  {
   "cell_type": "code",
   "execution_count": 92,
   "metadata": {},
   "outputs": [],
   "source": [
    "gameFileLoc = \"s3://caserta-bucket1/Seahawks/game.csv\"\n",
    "\n",
    "gameDF = spark.read.format(\"org.apache.spark.sql.execution.datasources.csv.CSVFileFormat\") \\\n",
    "            .option(\"path\",gameFileLoc) \\\n",
    "            .option(\"sep\",\"\\t\") \\\n",
    "            .option(\"header\",\"true\") \\\n",
    "            .option(\"inferSchema\",\"true\") \\\n",
    "            .option(\"mode\", \"FAILFAST\") \\\n",
    "            .load(gameFileLoc)\n"
   ]
  },
  {
   "cell_type": "markdown",
   "metadata": {},
   "source": [
    "### There is a problem with a column in the resulting dataframe.  Determine what the problem is and resolve the issue."
   ]
  },
  {
   "cell_type": "code",
   "execution_count": 94,
   "metadata": {},
   "outputs": [],
   "source": [
    "gameFileLoc = \"s3://caserta-bucket1/Seahawks/game.csv\""
   ]
  },
  {
   "cell_type": "code",
   "execution_count": 95,
   "metadata": {},
   "outputs": [],
   "source": [
    "gameDF = spark.read.format(\"org.apache.spark.sql.execution.datasources.csv.CSVFileFormat\") \\\n",
    "            .option(\"path\",gameFileLoc) \\\n",
    "            .option(\"sep\",\"\\t\") \\\n",
    "            .option(\"header\",\"true\") \\\n",
    "            .option(\"inferSchema\",\"true\") \\\n",
    "            .option(\"mode\", \"FAILFAST\") \\\n",
    "            .load(gameFileLoc)"
   ]
  },
  {
   "cell_type": "code",
   "execution_count": 97,
   "metadata": {},
   "outputs": [
    {
     "data": {
      "text/plain": [
       "2689"
      ]
     },
     "execution_count": 97,
     "metadata": {},
     "output_type": "execute_result"
    }
   ],
   "source": [
    "gameDF.count()\n"
   ]
  },
  {
   "cell_type": "code",
   "execution_count": 98,
   "metadata": {},
   "outputs": [
    {
     "name": "stdout",
     "output_type": "stream",
     "text": [
      "+-------+------+------------+---------------+---------+------------------+---------+----+---------+--------+----------------+----------------+-------+--------+-------------+--------------+---------+------------+--------------------+\n",
      "|GameKey|PlayID|HomeClubCode|VisitorClubCode| GameDate|UniversalTimeClock|ClockTime|Down|YardsToGo|YardLine|AbsoluteYardLine|SpecialTeamsPlay|Quarter|Sequence|IsScoringPlay|PossessionTeam|HomeScore|VisitorScore|     PlayDescription|\n",
      "+-------+------+------------+---------------+---------+------------------+---------+----+---------+--------+----------------+----------------+-------+--------+-------------+--------------+---------+------------+--------------------+\n",
      "|  55774|    53|         SEA|            TEN|8/11/2012|           2:05:58|    15:00|   0|        0|  SEA 35|              65|               1|      1|      53|            0|           SEA|        0|           0|C.Wiggs kicks 65 ...|\n",
      "|  55774|    71|         SEA|            TEN|8/11/2012|           2:06:41|    15:00|   1|       10|  TEN 20|              80|               0|      1|      71|            1|           TEN|        6|           0|(15:00) M.Hasselb...|\n",
      "|  55774|   144|         SEA|            TEN|8/11/2012|           2:10:30|    14:51|   0|        0|   TEN 2|               2|               1|      1|     144|            1|           SEA|        7|           0|S.Hauschka extra ...|\n",
      "|  55774|   160|         SEA|            TEN|8/11/2012|           2:11:45|    14:51|   0|        0|  SEA 35|              65|               1|      1|     160|            0|           SEA|        7|           0|C.Wiggs kicks 65 ...|\n",
      "|  55774|   178|         SEA|            TEN|8/11/2012|           2:12:25|    14:51|   1|       10|  TEN 20|              80|               0|      1|     178|            0|           TEN|        7|           0|(14:51) C.Johnson...|\n",
      "|  55774|   199|         SEA|            TEN|8/11/2012|           2:12:59|    14:16|   2|       13|  TEN 17|              83|               0|      1|     199|            0|           TEN|        7|           0|(14:16) C.Johnson...|\n",
      "|  55774|   220|         SEA|            TEN|8/11/2012|           2:13:44|    13:31|   3|        4|  TEN 26|              74|               0|      1|     220|            0|           TEN|        7|           0|(13:31) (Shotgun)...|\n",
      "|  55774|   244|         SEA|            TEN|8/11/2012|           2:14:12|    13:04|   1|       10|  TEN 36|              64|               0|      1|     244|            0|           TEN|        7|           0|(13:04) C.Johnson...|\n",
      "|  55774|   265|         SEA|            TEN|8/11/2012|           2:14:49|    12:27|   2|        9|  TEN 37|              63|               0|      1|     265|            0|           TEN|        7|           0|(12:27) M.Hasselb...|\n",
      "|  55774|   287|         SEA|            TEN|8/11/2012|           2:15:31|    12:22|   3|        9|  TEN 37|              63|               0|      1|     287|            0|           TEN|        7|           0|(12:22) (Shotgun)...|\n",
      "|  55774|   316|         SEA|            TEN|8/11/2012|           2:16:12|    12:18|   4|        9|  TEN 37|              63|               1|      1|     316|            0|           TEN|        7|           0|(12:18) B.Kern pu...|\n",
      "|  55774|   341|         SEA|            TEN|8/11/2012|           2:18:47|    12:08|   1|       10|  SEA 15|              85|               0|      1|     341|            0|           SEA|        7|           0|(12:08) M.Flynn p...|\n",
      "|  55774|   365|         SEA|            TEN|8/11/2012|           2:19:23|    11:32|   2|        5|  SEA 20|              80|               0|      1|     365|            0|           SEA|        7|           0|(11:32) L.Washing...|\n",
      "|  55774|   386|         SEA|            TEN|8/11/2012|           2:20:01|    10:55|   1|       10|  SEA 29|              71|               0|      1|     386|            0|           SEA|        7|           0|(10:55) L.Washing...|\n",
      "|  55774|   407|         SEA|            TEN|8/11/2012|           2:20:42|    10:13|   2|        1|  SEA 38|              62|               0|      1|     407|            0|           SEA|        7|           0|(10:13) L.Washing...|\n",
      "|  55774|   428|         SEA|            TEN|8/11/2012|           2:21:23|     9:32|   1|       10|  SEA 46|              54|               0|      1|     428|            0|           SEA|        7|           0|(9:32) M.Flynn pa...|\n",
      "|  55774|   452|         SEA|            TEN|8/11/2012|           2:22:09|     8:46|   2|        5|  TEN 49|              49|               0|      1|     452|            0|           SEA|        7|           0|(8:46) R.Turbin r...|\n",
      "|  55774|   473|         SEA|            TEN|8/11/2012|           2:22:51|     8:04|   3|        4|  TEN 48|              48|               0|      1|     473|            0|           SEA|        7|           0|(8:04) (Shotgun) ...|\n",
      "|  55774|   506|         SEA|            TEN|8/11/2012|           2:23:45|     8:00|   1|       10|  TEN 44|              44|               0|      1|     506|            0|           SEA|        7|           0|(8:00) M.Flynn pa...|\n",
      "|  55774|   530|         SEA|            TEN|8/11/2012|           2:24:26|     7:19|   2|        6|  TEN 40|              40|               0|      1|     530|            0|           SEA|        7|           0|(7:19) (Shotgun) ...|\n",
      "+-------+------+------------+---------------+---------+------------------+---------+----+---------+--------+----------------+----------------+-------+--------+-------------+--------------+---------+------------+--------------------+\n",
      "only showing top 20 rows\n",
      "\n"
     ]
    }
   ],
   "source": [
    "gameDF.show()\n"
   ]
  },
  {
   "cell_type": "code",
   "execution_count": 99,
   "metadata": {},
   "outputs": [
    {
     "name": "stdout",
     "output_type": "stream",
     "text": [
      "root\n",
      " |-- GameKey: integer (nullable = true)\n",
      " |-- PlayID: integer (nullable = true)\n",
      " |-- HomeClubCode: string (nullable = true)\n",
      " |-- VisitorClubCode: string (nullable = true)\n",
      " |-- GameDate: string (nullable = true)\n",
      " |-- UniversalTimeClock: string (nullable = true)\n",
      " |-- ClockTime: string (nullable = true)\n",
      " |-- Down: integer (nullable = true)\n",
      " |-- YardsToGo: integer (nullable = true)\n",
      " |-- YardLine: string (nullable = true)\n",
      " |-- AbsoluteYardLine: integer (nullable = true)\n",
      " |-- SpecialTeamsPlay: integer (nullable = true)\n",
      " |-- Quarter: integer (nullable = true)\n",
      " |-- Sequence: integer (nullable = true)\n",
      " |-- IsScoringPlay: integer (nullable = true)\n",
      " |-- PossessionTeam: string (nullable = true)\n",
      " |-- HomeScore: integer (nullable = true)\n",
      " |-- VisitorScore: integer (nullable = true)\n",
      " |-- PlayDescription: string (nullable = true)\n",
      "\n"
     ]
    }
   ],
   "source": [
    "gameDF.printSchema()"
   ]
  }
 ],
 "metadata": {
  "anaconda-cloud": {},
  "kernelspec": {
   "display_name": "Python 2",
   "language": "python",
   "name": "python2"
  },
  "language_info": {
   "codemirror_mode": {
    "name": "ipython",
    "version": 2
   },
   "file_extension": ".py",
   "mimetype": "text/x-python",
   "name": "python",
   "nbconvert_exporter": "python",
   "pygments_lexer": "ipython2",
   "version": "2.7.12"
  }
 },
 "nbformat": 4,
 "nbformat_minor": 1
}
