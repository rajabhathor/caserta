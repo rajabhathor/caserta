{
 "cells": [
  {
   "cell_type": "markdown",
   "metadata": {},
   "source": [
    "#How many coins have a USD price greater than $8,000"
   ]
  },
  {
   "cell_type": "code",
   "execution_count": 39,
   "metadata": {
    "collapsed": false
   },
   "outputs": [
    {
     "data": {
      "text/html": [
       "\n",
       "    <div class=\"bqtv\" id=\"11_152700669811\"><table><tr><th>_NAME_</th><th>Name</th><th>Symbol</th><th>Rank</th><th>Price_Usd</th><th>Price_Btc</th><th>_24h_Volume_Usd</th><th>Market_Cap_Usd</th><th>Available_Supply</th><th>Total_Supply</th><th>Max_Supply</th><th>Percent_Change_1h</th><th>Percent_Change_24h</th><th>Percent_Change_7d</th><th>Last_Updated</th><th>_24h_Volume_Btc</th><th>Market_Cap_Btc</th></tr><tr><td>bitcoin</td><td>Bitcoin</td><td>BTC</td><td>1</td><td>8306.69</td><td>1.0</td><td>5010630000.0</td><td>1.41568525343e+11</td><td>17042712.0</td><td>17042712.0</td><td>21000000.0</td><td>-0.17</td><td>2.19</td><td>-2.11</td><td>1526748272</td><td>603204.164354</td><td>17042712.0</td></tr><tr><td>42-coin</td><td>42-coin</td><td>42</td><td>1048</td><td>31658.2</td><td>3.8111690697</td><td>280.924</td><td>1329643.0</td><td>42.0</td><td>42.0</td><td>&nbsp;</td><td>-0.06</td><td>6.06</td><td>-2.6</td><td>1526748242</td><td>0.0338190061</td><td>160.0</td></tr><tr><td>bitbtc</td><td>bitBTC</td><td>BITBTC</td><td>924</td><td>9265.07</td><td>1.1153744753</td><td>1093.58</td><td>481896.0</td><td>52.0</td><td>52.0</td><td>&nbsp;</td><td>0.49</td><td>4.39</td><td>-4.72</td><td>1526748244</td><td>0.131650513</td><td>58.0</td></tr><tr><td>bit20</td><td>Bit20</td><td>BTWTY</td><td>1060</td><td>914921.0</td><td>110.142668139</td><td>9.14921</td><td>929560.0</td><td>1.0</td><td>1.0</td><td>&nbsp;</td><td>0.91</td><td>6.31</td><td>34.21</td><td>1526748253</td><td>0.0011014267</td><td>112.0</td></tr><tr><td>project-x</td><td>Project-X</td><td>NANOX</td><td>1016</td><td>89548.3</td><td>10.7802626558</td><td>710.772</td><td>7008.0</td><td>0.0</td><td>1.0</td><td>&nbsp;</td><td>-0.09</td><td>-8.89</td><td>-19.55</td><td>1526748253</td><td>0.0855662123</td><td>1.0</td></tr></table></div>\n",
       "    <br />(rows: 5, time: 3.3s, cached, job: job_amCY2v0_Wxt8bAnwCfds6n-8PXJz)<br />\n",
       "    <script src=\"/static/components/requirejs/require.js\"></script>\n",
       "    <script>\n",
       "      require.config({\n",
       "        paths: {\n",
       "          base: '/static/base',\n",
       "          d3: '//cdnjs.cloudflare.com/ajax/libs/d3/3.4.13/d3',\n",
       "          plotly: 'https://cdn.plot.ly/plotly-1.5.1.min.js?noext',\n",
       "          jquery: '//ajax.googleapis.com/ajax/libs/jquery/2.0.0/jquery.min'\n",
       "        },\n",
       "        map: {\n",
       "          '*': {\n",
       "            datalab: 'nbextensions/gcpdatalab'\n",
       "          }\n",
       "        },\n",
       "        shim: {\n",
       "          plotly: {\n",
       "            deps: ['d3', 'jquery'],\n",
       "            exports: 'plotly'\n",
       "          }\n",
       "        }\n",
       "      });\n",
       "\n",
       "      require(['datalab/charting', 'datalab/element!11_152700669811', 'base/js/events',\n",
       "          'datalab/style!/nbextensions/gcpdatalab/charting.css'],\n",
       "        function(charts, dom, events) {\n",
       "          charts.render('gcharts', dom, events, 'table', [], {\"rows\": [{\"c\": [{\"v\": \"bitcoin\"}, {\"v\": \"Bitcoin\"}, {\"v\": \"BTC\"}, {\"v\": 1}, {\"v\": 8306.69}, {\"v\": 1.0}, {\"v\": 5010630000.0}, {\"v\": 141568525343.0}, {\"v\": 17042712.0}, {\"v\": 17042712.0}, {\"v\": 21000000.0}, {\"v\": -0.17}, {\"v\": 2.19}, {\"v\": -2.11}, {\"v\": 1526748272}, {\"v\": 603204.164354}, {\"v\": 17042712.0}]}, {\"c\": [{\"v\": \"42-coin\"}, {\"v\": \"42-coin\"}, {\"v\": \"42\"}, {\"v\": 1048}, {\"v\": 31658.2}, {\"v\": 3.8111690697}, {\"v\": 280.924}, {\"v\": 1329643.0}, {\"v\": 42.0}, {\"v\": 42.0}, {\"v\": null}, {\"v\": -0.06}, {\"v\": 6.06}, {\"v\": -2.6}, {\"v\": 1526748242}, {\"v\": 0.0338190061}, {\"v\": 160.0}]}, {\"c\": [{\"v\": \"bitbtc\"}, {\"v\": \"bitBTC\"}, {\"v\": \"BITBTC\"}, {\"v\": 924}, {\"v\": 9265.07}, {\"v\": 1.1153744753}, {\"v\": 1093.58}, {\"v\": 481896.0}, {\"v\": 52.0}, {\"v\": 52.0}, {\"v\": null}, {\"v\": 0.49}, {\"v\": 4.39}, {\"v\": -4.72}, {\"v\": 1526748244}, {\"v\": 0.131650513}, {\"v\": 58.0}]}, {\"c\": [{\"v\": \"bit20\"}, {\"v\": \"Bit20\"}, {\"v\": \"BTWTY\"}, {\"v\": 1060}, {\"v\": 914921.0}, {\"v\": 110.142668139}, {\"v\": 9.14921}, {\"v\": 929560.0}, {\"v\": 1.0}, {\"v\": 1.0}, {\"v\": null}, {\"v\": 0.91}, {\"v\": 6.31}, {\"v\": 34.21}, {\"v\": 1526748253}, {\"v\": 0.0011014267}, {\"v\": 112.0}]}, {\"c\": [{\"v\": \"project-x\"}, {\"v\": \"Project-X\"}, {\"v\": \"NANOX\"}, {\"v\": 1016}, {\"v\": 89548.3}, {\"v\": 10.7802626558}, {\"v\": 710.772}, {\"v\": 7008.0}, {\"v\": 0.0}, {\"v\": 1.0}, {\"v\": null}, {\"v\": -0.09}, {\"v\": -8.89}, {\"v\": -19.55}, {\"v\": 1526748253}, {\"v\": 0.0855662123}, {\"v\": 1.0}]}], \"cols\": [{\"type\": \"string\", \"id\": \"_NAME_\", \"label\": \"_NAME_\"}, {\"type\": \"string\", \"id\": \"Name\", \"label\": \"Name\"}, {\"type\": \"string\", \"id\": \"Symbol\", \"label\": \"Symbol\"}, {\"type\": \"number\", \"id\": \"Rank\", \"label\": \"Rank\"}, {\"type\": \"number\", \"id\": \"Price_Usd\", \"label\": \"Price_Usd\"}, {\"type\": \"number\", \"id\": \"Price_Btc\", \"label\": \"Price_Btc\"}, {\"type\": \"number\", \"id\": \"_24h_Volume_Usd\", \"label\": \"_24h_Volume_Usd\"}, {\"type\": \"number\", \"id\": \"Market_Cap_Usd\", \"label\": \"Market_Cap_Usd\"}, {\"type\": \"number\", \"id\": \"Available_Supply\", \"label\": \"Available_Supply\"}, {\"type\": \"number\", \"id\": \"Total_Supply\", \"label\": \"Total_Supply\"}, {\"type\": \"number\", \"id\": \"Max_Supply\", \"label\": \"Max_Supply\"}, {\"type\": \"number\", \"id\": \"Percent_Change_1h\", \"label\": \"Percent_Change_1h\"}, {\"type\": \"number\", \"id\": \"Percent_Change_24h\", \"label\": \"Percent_Change_24h\"}, {\"type\": \"number\", \"id\": \"Percent_Change_7d\", \"label\": \"Percent_Change_7d\"}, {\"type\": \"number\", \"id\": \"Last_Updated\", \"label\": \"Last_Updated\"}, {\"type\": \"number\", \"id\": \"_24h_Volume_Btc\", \"label\": \"_24h_Volume_Btc\"}, {\"type\": \"number\", \"id\": \"Market_Cap_Btc\", \"label\": \"Market_Cap_Btc\"}]},\n",
       "            {\n",
       "              pageSize: 25,\n",
       "              cssClassNames:  {\n",
       "                tableRow: 'gchart-table-row',\n",
       "                headerRow: 'gchart-table-headerrow',\n",
       "                oddTableRow: 'gchart-table-oddrow',\n",
       "                selectedTableRow: 'gchart-table-selectedrow',\n",
       "                hoverTableRow: 'gchart-table-hoverrow',\n",
       "                tableCell: 'gchart-table-cell',\n",
       "                headerCell: 'gchart-table-headercell',\n",
       "                rowNumberCell: 'gchart-table-rownumcell'\n",
       "              }\n",
       "            },\n",
       "            {source_index: 7, fields: '_NAME_,Name,Symbol,Rank,Price_Usd,Price_Btc,_24h_Volume_Usd,Market_Cap_Usd,Available_Supply,Total_Supply,Max_Supply,Percent_Change_1h,Percent_Change_24h,Percent_Change_7d,Last_Updated,_24h_Volume_Btc,Market_Cap_Btc'},\n",
       "            0,\n",
       "            5);\n",
       "        }\n",
       "      );\n",
       "    </script>\n",
       "  "
      ],
      "text/plain": [
       "QueryResultsTable job_amCY2v0_Wxt8bAnwCfds6n-8PXJz"
      ]
     },
     "execution_count": 39,
     "metadata": {},
     "output_type": "execute_result"
    }
   ],
   "source": [
    "%%bq query \n",
    "SELECT * FROM `cryptotest-204616.cryptotest.cryptotest`\n",
    "where Price_Usd > 8000"
   ]
  },
  {
   "cell_type": "code",
   "execution_count": 29,
   "metadata": {
    "collapsed": false
   },
   "outputs": [
    {
     "data": {
      "text/html": [
       "\n",
       "    <div class=\"bqtv\" id=\"3_152700514618\"><table><tr><th>_NAME_</th><th>Market_Cap_Usd</th></tr><tr><td>bitcoin</td><td>1.41568525343e+11</td></tr><tr><td>ethereum</td><td>70160750450.0</td></tr><tr><td>ripple</td><td>26661640812.0</td></tr><tr><td>bitcoin-cash</td><td>20283402474.0</td></tr><tr><td>eos</td><td>11347212707.0</td></tr><tr><td>litecoin</td><td>7715016560.0</td></tr><tr><td>cardano</td><td>6375751843.0</td></tr><tr><td>stellar</td><td>5999998858.0</td></tr><tr><td>iota</td><td>4964241085.0</td></tr><tr><td>tron</td><td>4553240826.0</td></tr><tr><td>neo</td><td>3905388500.0</td></tr><tr><td>monero</td><td>3197181704.0</td></tr><tr><td>dash</td><td>3154783974.0</td></tr><tr><td>nem</td><td>2805462000.0</td></tr><tr><td>tether</td><td>2513834879.0</td></tr><tr><td>vechain</td><td>2308928089.0</td></tr><tr><td>ethereum-classic</td><td>1804635309.0</td></tr><tr><td>bytecoin-bcn</td><td>1643368547.0</td></tr><tr><td>binance-coin</td><td>1607446196.0</td></tr><tr><td>qtum</td><td>1427365717.0</td></tr><tr><td>zcash</td><td>1391003563.0</td></tr><tr><td>icon</td><td>1381633707.0</td></tr><tr><td>omisego</td><td>1301573156.0</td></tr><tr><td>lisk</td><td>1138244980.0</td></tr><tr><td>zilliqa</td><td>1049730591.0</td></tr></table></div>\n",
       "    <br />(rows: 100, time: 0.9s,    27KB processed, job: job_ypinbSEjPOeeyowFQPSJKz4qEgtJ)<br />\n",
       "    <script src=\"/static/components/requirejs/require.js\"></script>\n",
       "    <script>\n",
       "      require.config({\n",
       "        paths: {\n",
       "          base: '/static/base',\n",
       "          d3: '//cdnjs.cloudflare.com/ajax/libs/d3/3.4.13/d3',\n",
       "          plotly: 'https://cdn.plot.ly/plotly-1.5.1.min.js?noext',\n",
       "          jquery: '//ajax.googleapis.com/ajax/libs/jquery/2.0.0/jquery.min'\n",
       "        },\n",
       "        map: {\n",
       "          '*': {\n",
       "            datalab: 'nbextensions/gcpdatalab'\n",
       "          }\n",
       "        },\n",
       "        shim: {\n",
       "          plotly: {\n",
       "            deps: ['d3', 'jquery'],\n",
       "            exports: 'plotly'\n",
       "          }\n",
       "        }\n",
       "      });\n",
       "\n",
       "      require(['datalab/charting', 'datalab/element!3_152700514618', 'base/js/events',\n",
       "          'datalab/style!/nbextensions/gcpdatalab/charting.css'],\n",
       "        function(charts, dom, events) {\n",
       "          charts.render('gcharts', dom, events, 'paged_table', [], {\"rows\": [{\"c\": [{\"v\": \"bitcoin\"}, {\"v\": 141568525343.0}]}, {\"c\": [{\"v\": \"ethereum\"}, {\"v\": 70160750450.0}]}, {\"c\": [{\"v\": \"ripple\"}, {\"v\": 26661640812.0}]}, {\"c\": [{\"v\": \"bitcoin-cash\"}, {\"v\": 20283402474.0}]}, {\"c\": [{\"v\": \"eos\"}, {\"v\": 11347212707.0}]}, {\"c\": [{\"v\": \"litecoin\"}, {\"v\": 7715016560.0}]}, {\"c\": [{\"v\": \"cardano\"}, {\"v\": 6375751843.0}]}, {\"c\": [{\"v\": \"stellar\"}, {\"v\": 5999998858.0}]}, {\"c\": [{\"v\": \"iota\"}, {\"v\": 4964241085.0}]}, {\"c\": [{\"v\": \"tron\"}, {\"v\": 4553240826.0}]}, {\"c\": [{\"v\": \"neo\"}, {\"v\": 3905388500.0}]}, {\"c\": [{\"v\": \"monero\"}, {\"v\": 3197181704.0}]}, {\"c\": [{\"v\": \"dash\"}, {\"v\": 3154783974.0}]}, {\"c\": [{\"v\": \"nem\"}, {\"v\": 2805462000.0}]}, {\"c\": [{\"v\": \"tether\"}, {\"v\": 2513834879.0}]}, {\"c\": [{\"v\": \"vechain\"}, {\"v\": 2308928089.0}]}, {\"c\": [{\"v\": \"ethereum-classic\"}, {\"v\": 1804635309.0}]}, {\"c\": [{\"v\": \"bytecoin-bcn\"}, {\"v\": 1643368547.0}]}, {\"c\": [{\"v\": \"binance-coin\"}, {\"v\": 1607446196.0}]}, {\"c\": [{\"v\": \"qtum\"}, {\"v\": 1427365717.0}]}, {\"c\": [{\"v\": \"zcash\"}, {\"v\": 1391003563.0}]}, {\"c\": [{\"v\": \"icon\"}, {\"v\": 1381633707.0}]}, {\"c\": [{\"v\": \"omisego\"}, {\"v\": 1301573156.0}]}, {\"c\": [{\"v\": \"lisk\"}, {\"v\": 1138244980.0}]}, {\"c\": [{\"v\": \"zilliqa\"}, {\"v\": 1049730591.0}]}], \"cols\": [{\"type\": \"string\", \"id\": \"_NAME_\", \"label\": \"_NAME_\"}, {\"type\": \"number\", \"id\": \"Market_Cap_Usd\", \"label\": \"Market_Cap_Usd\"}]},\n",
       "            {\n",
       "              pageSize: 25,\n",
       "              cssClassNames:  {\n",
       "                tableRow: 'gchart-table-row',\n",
       "                headerRow: 'gchart-table-headerrow',\n",
       "                oddTableRow: 'gchart-table-oddrow',\n",
       "                selectedTableRow: 'gchart-table-selectedrow',\n",
       "                hoverTableRow: 'gchart-table-hoverrow',\n",
       "                tableCell: 'gchart-table-cell',\n",
       "                headerCell: 'gchart-table-headercell',\n",
       "                rowNumberCell: 'gchart-table-rownumcell'\n",
       "              }\n",
       "            },\n",
       "            {source_index: 1, fields: '_NAME_,Market_Cap_Usd'},\n",
       "            0,\n",
       "            100);\n",
       "        }\n",
       "      );\n",
       "    </script>\n",
       "  "
      ],
      "text/plain": [
       "QueryResultsTable job_ypinbSEjPOeeyowFQPSJKz4qEgtJ"
      ]
     },
     "execution_count": 29,
     "metadata": {},
     "output_type": "execute_result"
    }
   ],
   "source": [
    "%%bq query\n",
    "# Query to betermine the total market cap of the top 100 cryptocurrencies (in USD)\n",
    "SELECT _NAME_, Market_Cap_Usd FROM `cryptotest-204616.cryptotest.cryptotest`\n",
    "order by Market_Cap_Usd desc\n",
    "limit 100\n"
   ]
  },
  {
   "cell_type": "markdown",
   "metadata": {},
   "source": [
    "#Which coins have an available supply less than $5M"
   ]
  },
  {
   "cell_type": "code",
   "execution_count": 33,
   "metadata": {
    "collapsed": false
   },
   "outputs": [
    {
     "data": {
      "text/html": [
       "\n",
       "    <div class=\"bqtv\" id=\"5_152700544065\"><table><tr><th>_NAME_</th><th>Name</th><th>Symbol</th><th>Rank</th><th>Price_Usd</th><th>Price_Btc</th><th>_24h_Volume_Usd</th><th>Market_Cap_Usd</th><th>Available_Supply</th><th>Total_Supply</th><th>Max_Supply</th><th>Percent_Change_1h</th><th>Percent_Change_24h</th><th>Percent_Change_7d</th><th>Last_Updated</th><th>_24h_Volume_Btc</th><th>Market_Cap_Btc</th></tr><tr><td>ponzicoin</td><td>PonziCoin</td><td>PONZI</td><td>1269</td><td>0.0409094</td><td>4.9249e-06</td><td>&nbsp;</td><td>35227.0</td><td>861099.0</td><td>861099.0</td><td>&nbsp;</td><td>&nbsp;</td><td>&nbsp;</td><td>0.59</td><td>1526655247</td><td>&nbsp;</td><td>4.0</td></tr><tr><td>islacoin</td><td>IslaCoin</td><td>ISL</td><td>1137</td><td>0.185304</td><td>2.23078e-05</td><td>&nbsp;</td><td>280495.0</td><td>1513704.0</td><td>1513704.0</td><td>&nbsp;</td><td>&nbsp;</td><td>&nbsp;</td><td>-8.55</td><td>1526456346</td><td>&nbsp;</td><td>34.0</td></tr><tr><td>xios</td><td>Xios</td><td>XIOS</td><td>1187</td><td>0.06823</td><td>8.2139e-06</td><td>&nbsp;</td><td>146673.0</td><td>2149688.0</td><td>2149688.0</td><td>21000000.0</td><td>&nbsp;</td><td>1.18</td><td>-19.42</td><td>1526720056</td><td>&nbsp;</td><td>18.0</td></tr><tr><td>orbitcoin</td><td>Orbitcoin</td><td>ORB</td><td>1053</td><td>0.372142</td><td>4.48003e-05</td><td>264.567</td><td>1195085.0</td><td>3211369.0</td><td>3211369.0</td><td>&nbsp;</td><td>4.0</td><td>6.44</td><td>-11.02</td><td>1526748241</td><td>0.0318498704</td><td>144.0</td></tr><tr><td>ronpaulcoin</td><td>RonPaulCoin</td><td>RPC</td><td>1158</td><td>0.224218</td><td>2.69925e-05</td><td>292.622</td><td>208785.0</td><td>931168.0</td><td>931168.0</td><td>&nbsp;</td><td>-0.07</td><td>16.31</td><td>-17.0</td><td>1526748241</td><td>0.0352272686</td><td>25.0</td></tr><tr><td>bitgem</td><td>Bitgem</td><td>BTG</td><td>921</td><td>8.10087</td><td>0.0009752224</td><td>1029.56</td><td>492996.0</td><td>60857.0</td><td>60857.0</td><td>&nbsp;</td><td>-0.06</td><td>1.64</td><td>-10.47</td><td>1526748241</td><td>0.1239434721</td><td>59.0</td></tr><tr><td>unobtanium</td><td>Unobtanium</td><td>UNO</td><td>337</td><td>125.853</td><td>0.0151508001</td><td>6199.98</td><td>25002335.0</td><td>198663.0</td><td>198663.0</td><td>&nbsp;</td><td>1.2</td><td>2.83</td><td>-4.36</td><td>1526748241</td><td>0.7463839387</td><td>3010.0</td></tr><tr><td>novacoin</td><td>Novacoin</td><td>NVC</td><td>571</td><td>3.84641</td><td>0.0004630497</td><td>3809.35</td><td>7981400.0</td><td>2075026.0</td><td>2075026.0</td><td>&nbsp;</td><td>-0.51</td><td>0.66</td><td>-6.16</td><td>1526748241</td><td>0.4585881982</td><td>961.0</td></tr><tr><td>bitbar</td><td>BitBar</td><td>BTB</td><td>1086</td><td>15.8081</td><td>0.0019030565</td><td>411.932</td><td>590293.0</td><td>37341.0</td><td>37341.0</td><td>&nbsp;</td><td>-0.09</td><td>1.77</td><td>-5.08</td><td>1526748241</td><td>0.0495903904</td><td>71.0</td></tr><tr><td>anoncoin</td><td>Anoncoin</td><td>ANC</td><td>658</td><td>2.28494</td><td>0.0002750723</td><td>20914.1</td><td>4821947.0</td><td>2110317.0</td><td>2110317.0</td><td>&nbsp;</td><td>-27.51</td><td>-15.45</td><td>70.71</td><td>1526748241</td><td>2.5177417238</td><td>580.0</td></tr><tr><td>mincoin</td><td>Mincoin</td><td>MNC</td><td>1195</td><td>0.0296482</td><td>3.5692e-06</td><td>158.651</td><td>133030.0</td><td>4486957.0</td><td>4486957.0</td><td>&nbsp;</td><td>-0.1</td><td>-8.87</td><td>-24.65</td><td>1526748241</td><td>0.0190991839</td><td>16.0</td></tr><tr><td>diamond</td><td>Diamond</td><td>DMD</td><td>424</td><td>5.89768</td><td>0.0007099916</td><td>10188.3</td><td>16422144.0</td><td>2784509.0</td><td>2784509.0</td><td>4380000.0</td><td>-0.07</td><td>2.16</td><td>-6.05</td><td>1526748242</td><td>1.2265174215</td><td>1977.0</td></tr><tr><td>counterparty</td><td>Counterparty</td><td>XCP</td><td>261</td><td>14.723</td><td>0.0017724268</td><td>90662.4</td><td>38521063.0</td><td>2616387.0</td><td>2616387.0</td><td>&nbsp;</td><td>-0.25</td><td>3.09</td><td>-8.77</td><td>1526748242</td><td>10.9143834668</td><td>4637.0</td></tr><tr><td>litebar</td><td>LiteBar</td><td>LTB</td><td>1157</td><td>0.226077</td><td>2.72163e-05</td><td>74.3712</td><td>209242.0</td><td>925535.0</td><td>925535.0</td><td>&nbsp;</td><td>-0.07</td><td>-3.37</td><td>1.05</td><td>1526748242</td><td>0.0089531691</td><td>25.0</td></tr><tr><td>42-coin</td><td>42-coin</td><td>42</td><td>1048</td><td>31658.2</td><td>3.8111690697</td><td>280.924</td><td>1329643.0</td><td>42.0</td><td>42.0</td><td>&nbsp;</td><td>-0.06</td><td>6.06</td><td>-2.6</td><td>1526748242</td><td>0.0338190061</td><td>160.0</td></tr><tr><td>bitcoindark</td><td>BitcoinDark</td><td>BTCD</td><td>125</td><td>93.7569</td><td>0.0112869145</td><td>154025.0</td><td>120839723.0</td><td>1288862.0</td><td>1288862.0</td><td>&nbsp;</td><td>-0.24</td><td>5.72</td><td>0.11</td><td>1526748243</td><td>18.5422833884</td><td>14547.0</td></tr><tr><td>bitcoin-plus</td><td>Bitcoin Plus</td><td>XBC</td><td>641</td><td>48.9099</td><td>0.0058880132</td><td>92059.6</td><td>5369615.0</td><td>109786.0</td><td>109786.0</td><td>1000000.0</td><td>-0.04</td><td>3.5</td><td>0.73</td><td>1526748243</td><td>11.0825852415</td><td>646.0</td></tr><tr><td>clams</td><td>Clams</td><td>CLAM</td><td>503</td><td>3.63417</td><td>0.0004374992</td><td>64207.8</td><td>11071548.0</td><td>3046514.0</td><td>16708840.0</td><td>&nbsp;</td><td>0.25</td><td>2.55</td><td>-1.03</td><td>1526748243</td><td>7.7296492345</td><td>1333.0</td></tr><tr><td>unbreakablecoin</td><td>UnbreakableCoin</td><td>UNB</td><td>825</td><td>0.63112</td><td>7.59773e-05</td><td>10073.7</td><td>1437786.0</td><td>2278150.0</td><td>2278150.0</td><td>&nbsp;</td><td>0.53</td><td>3.53</td><td>-2.24</td><td>1526748243</td><td>1.2127213126</td><td>173.0</td></tr><tr><td>triangles</td><td>Triangles</td><td>TRI</td><td>907</td><td>5.32896</td><td>0.0006415263</td><td>519.994</td><td>591052.0</td><td>110913.0</td><td>110913.0</td><td>&nbsp;</td><td>-0.07</td><td>-4.71</td><td>-8.66</td><td>1526748243</td><td>0.0625994229</td><td>71.0</td></tr><tr><td>litecoin-plus</td><td>Litecoin Plus</td><td>LCP</td><td>923</td><td>0.34464</td><td>4.14895e-05</td><td>4023.51</td><td>488156.0</td><td>1416423.0</td><td>1416423.0</td><td>4000000.0</td><td>0.27</td><td>1.72</td><td>-4.83</td><td>1526748243</td><td>0.4843698272</td><td>59.0</td></tr><tr><td>korecoin</td><td>Kore</td><td>KORE</td><td>616</td><td>3.10028</td><td>0.0003732269</td><td>16844.8</td><td>6270207.0</td><td>2022465.0</td><td>2022465.0</td><td>12000000.0</td><td>-0.82</td><td>2.74</td><td>11.94</td><td>1526748243</td><td>2.0278594723</td><td>755.0</td></tr><tr><td>dreamcoin</td><td>Dreamcoin</td><td>DRM</td><td>1276</td><td>0.0122136</td><td>1.4703e-06</td><td>34.049</td><td>30225.0</td><td>2474679.0</td><td>2474679.0</td><td>&nbsp;</td><td>-0.06</td><td>-8.78</td><td>-13.95</td><td>1526748243</td><td>0.0040989853</td><td>4.0</td></tr><tr><td>omni</td><td>Omni</td><td>OMNI</td><td>395</td><td>33.7171</td><td>0.0040590295</td><td>1206370.0</td><td>18915850.0</td><td>561017.0</td><td>617333.0</td><td>&nbsp;</td><td>-0.64</td><td>1.3</td><td>-3.98</td><td>1526748244</td><td>145.22872528</td><td>2277.0</td></tr><tr><td>exclusivecoin</td><td>ExclusiveCoin</td><td>EXCL</td><td>659</td><td>1.04653</td><td>0.0001259864</td><td>26189.2</td><td>4801564.0</td><td>4588081.0</td><td>4588081.0</td><td>&nbsp;</td><td>-0.14</td><td>5.09</td><td>4.03</td><td>1526748244</td><td>3.1527840813</td><td>578.0</td></tr></table></div>\n",
       "    <br />(rows: 235, time: 0.9s,   201KB processed, job: job_5L4lxR2aeHJqCglVV5knwmkrNIhX)<br />\n",
       "    <script src=\"/static/components/requirejs/require.js\"></script>\n",
       "    <script>\n",
       "      require.config({\n",
       "        paths: {\n",
       "          base: '/static/base',\n",
       "          d3: '//cdnjs.cloudflare.com/ajax/libs/d3/3.4.13/d3',\n",
       "          plotly: 'https://cdn.plot.ly/plotly-1.5.1.min.js?noext',\n",
       "          jquery: '//ajax.googleapis.com/ajax/libs/jquery/2.0.0/jquery.min'\n",
       "        },\n",
       "        map: {\n",
       "          '*': {\n",
       "            datalab: 'nbextensions/gcpdatalab'\n",
       "          }\n",
       "        },\n",
       "        shim: {\n",
       "          plotly: {\n",
       "            deps: ['d3', 'jquery'],\n",
       "            exports: 'plotly'\n",
       "          }\n",
       "        }\n",
       "      });\n",
       "\n",
       "      require(['datalab/charting', 'datalab/element!5_152700544065', 'base/js/events',\n",
       "          'datalab/style!/nbextensions/gcpdatalab/charting.css'],\n",
       "        function(charts, dom, events) {\n",
       "          charts.render('gcharts', dom, events, 'paged_table', [], {\"rows\": [{\"c\": [{\"v\": \"ponzicoin\"}, {\"v\": \"PonziCoin\"}, {\"v\": \"PONZI\"}, {\"v\": 1269}, {\"v\": 0.0409094}, {\"v\": 4.9249e-06}, {\"v\": null}, {\"v\": 35227.0}, {\"v\": 861099.0}, {\"v\": 861099.0}, {\"v\": null}, {\"v\": null}, {\"v\": null}, {\"v\": 0.59}, {\"v\": 1526655247}, {\"v\": null}, {\"v\": 4.0}]}, {\"c\": [{\"v\": \"islacoin\"}, {\"v\": \"IslaCoin\"}, {\"v\": \"ISL\"}, {\"v\": 1137}, {\"v\": 0.185304}, {\"v\": 2.23078e-05}, {\"v\": null}, {\"v\": 280495.0}, {\"v\": 1513704.0}, {\"v\": 1513704.0}, {\"v\": null}, {\"v\": null}, {\"v\": null}, {\"v\": -8.55}, {\"v\": 1526456346}, {\"v\": null}, {\"v\": 34.0}]}, {\"c\": [{\"v\": \"xios\"}, {\"v\": \"Xios\"}, {\"v\": \"XIOS\"}, {\"v\": 1187}, {\"v\": 0.06823}, {\"v\": 8.2139e-06}, {\"v\": null}, {\"v\": 146673.0}, {\"v\": 2149688.0}, {\"v\": 2149688.0}, {\"v\": 21000000.0}, {\"v\": null}, {\"v\": 1.18}, {\"v\": -19.42}, {\"v\": 1526720056}, {\"v\": null}, {\"v\": 18.0}]}, {\"c\": [{\"v\": \"orbitcoin\"}, {\"v\": \"Orbitcoin\"}, {\"v\": \"ORB\"}, {\"v\": 1053}, {\"v\": 0.372142}, {\"v\": 4.48003e-05}, {\"v\": 264.567}, {\"v\": 1195085.0}, {\"v\": 3211369.0}, {\"v\": 3211369.0}, {\"v\": null}, {\"v\": 4.0}, {\"v\": 6.44}, {\"v\": -11.02}, {\"v\": 1526748241}, {\"v\": 0.0318498704}, {\"v\": 144.0}]}, {\"c\": [{\"v\": \"ronpaulcoin\"}, {\"v\": \"RonPaulCoin\"}, {\"v\": \"RPC\"}, {\"v\": 1158}, {\"v\": 0.224218}, {\"v\": 2.69925e-05}, {\"v\": 292.622}, {\"v\": 208785.0}, {\"v\": 931168.0}, {\"v\": 931168.0}, {\"v\": null}, {\"v\": -0.07}, {\"v\": 16.31}, {\"v\": -17.0}, {\"v\": 1526748241}, {\"v\": 0.0352272686}, {\"v\": 25.0}]}, {\"c\": [{\"v\": \"bitgem\"}, {\"v\": \"Bitgem\"}, {\"v\": \"BTG\"}, {\"v\": 921}, {\"v\": 8.10087}, {\"v\": 0.0009752224}, {\"v\": 1029.56}, {\"v\": 492996.0}, {\"v\": 60857.0}, {\"v\": 60857.0}, {\"v\": null}, {\"v\": -0.06}, {\"v\": 1.64}, {\"v\": -10.47}, {\"v\": 1526748241}, {\"v\": 0.1239434721}, {\"v\": 59.0}]}, {\"c\": [{\"v\": \"unobtanium\"}, {\"v\": \"Unobtanium\"}, {\"v\": \"UNO\"}, {\"v\": 337}, {\"v\": 125.853}, {\"v\": 0.0151508001}, {\"v\": 6199.98}, {\"v\": 25002335.0}, {\"v\": 198663.0}, {\"v\": 198663.0}, {\"v\": null}, {\"v\": 1.2}, {\"v\": 2.83}, {\"v\": -4.36}, {\"v\": 1526748241}, {\"v\": 0.7463839387}, {\"v\": 3010.0}]}, {\"c\": [{\"v\": \"novacoin\"}, {\"v\": \"Novacoin\"}, {\"v\": \"NVC\"}, {\"v\": 571}, {\"v\": 3.84641}, {\"v\": 0.0004630497}, {\"v\": 3809.35}, {\"v\": 7981400.0}, {\"v\": 2075026.0}, {\"v\": 2075026.0}, {\"v\": null}, {\"v\": -0.51}, {\"v\": 0.66}, {\"v\": -6.16}, {\"v\": 1526748241}, {\"v\": 0.4585881982}, {\"v\": 961.0}]}, {\"c\": [{\"v\": \"bitbar\"}, {\"v\": \"BitBar\"}, {\"v\": \"BTB\"}, {\"v\": 1086}, {\"v\": 15.8081}, {\"v\": 0.0019030565}, {\"v\": 411.932}, {\"v\": 590293.0}, {\"v\": 37341.0}, {\"v\": 37341.0}, {\"v\": null}, {\"v\": -0.09}, {\"v\": 1.77}, {\"v\": -5.08}, {\"v\": 1526748241}, {\"v\": 0.0495903904}, {\"v\": 71.0}]}, {\"c\": [{\"v\": \"anoncoin\"}, {\"v\": \"Anoncoin\"}, {\"v\": \"ANC\"}, {\"v\": 658}, {\"v\": 2.28494}, {\"v\": 0.0002750723}, {\"v\": 20914.1}, {\"v\": 4821947.0}, {\"v\": 2110317.0}, {\"v\": 2110317.0}, {\"v\": null}, {\"v\": -27.51}, {\"v\": -15.45}, {\"v\": 70.71}, {\"v\": 1526748241}, {\"v\": 2.5177417238}, {\"v\": 580.0}]}, {\"c\": [{\"v\": \"mincoin\"}, {\"v\": \"Mincoin\"}, {\"v\": \"MNC\"}, {\"v\": 1195}, {\"v\": 0.0296482}, {\"v\": 3.5692e-06}, {\"v\": 158.651}, {\"v\": 133030.0}, {\"v\": 4486957.0}, {\"v\": 4486957.0}, {\"v\": null}, {\"v\": -0.1}, {\"v\": -8.87}, {\"v\": -24.65}, {\"v\": 1526748241}, {\"v\": 0.0190991839}, {\"v\": 16.0}]}, {\"c\": [{\"v\": \"diamond\"}, {\"v\": \"Diamond\"}, {\"v\": \"DMD\"}, {\"v\": 424}, {\"v\": 5.89768}, {\"v\": 0.0007099916}, {\"v\": 10188.3}, {\"v\": 16422144.0}, {\"v\": 2784509.0}, {\"v\": 2784509.0}, {\"v\": 4380000.0}, {\"v\": -0.07}, {\"v\": 2.16}, {\"v\": -6.05}, {\"v\": 1526748242}, {\"v\": 1.2265174215}, {\"v\": 1977.0}]}, {\"c\": [{\"v\": \"counterparty\"}, {\"v\": \"Counterparty\"}, {\"v\": \"XCP\"}, {\"v\": 261}, {\"v\": 14.723}, {\"v\": 0.0017724268}, {\"v\": 90662.4}, {\"v\": 38521063.0}, {\"v\": 2616387.0}, {\"v\": 2616387.0}, {\"v\": null}, {\"v\": -0.25}, {\"v\": 3.09}, {\"v\": -8.77}, {\"v\": 1526748242}, {\"v\": 10.9143834668}, {\"v\": 4637.0}]}, {\"c\": [{\"v\": \"litebar\"}, {\"v\": \"LiteBar\"}, {\"v\": \"LTB\"}, {\"v\": 1157}, {\"v\": 0.226077}, {\"v\": 2.72163e-05}, {\"v\": 74.3712}, {\"v\": 209242.0}, {\"v\": 925535.0}, {\"v\": 925535.0}, {\"v\": null}, {\"v\": -0.07}, {\"v\": -3.37}, {\"v\": 1.05}, {\"v\": 1526748242}, {\"v\": 0.0089531691}, {\"v\": 25.0}]}, {\"c\": [{\"v\": \"42-coin\"}, {\"v\": \"42-coin\"}, {\"v\": \"42\"}, {\"v\": 1048}, {\"v\": 31658.2}, {\"v\": 3.8111690697}, {\"v\": 280.924}, {\"v\": 1329643.0}, {\"v\": 42.0}, {\"v\": 42.0}, {\"v\": null}, {\"v\": -0.06}, {\"v\": 6.06}, {\"v\": -2.6}, {\"v\": 1526748242}, {\"v\": 0.0338190061}, {\"v\": 160.0}]}, {\"c\": [{\"v\": \"bitcoindark\"}, {\"v\": \"BitcoinDark\"}, {\"v\": \"BTCD\"}, {\"v\": 125}, {\"v\": 93.7569}, {\"v\": 0.0112869145}, {\"v\": 154025.0}, {\"v\": 120839723.0}, {\"v\": 1288862.0}, {\"v\": 1288862.0}, {\"v\": null}, {\"v\": -0.24}, {\"v\": 5.72}, {\"v\": 0.11}, {\"v\": 1526748243}, {\"v\": 18.5422833884}, {\"v\": 14547.0}]}, {\"c\": [{\"v\": \"bitcoin-plus\"}, {\"v\": \"Bitcoin Plus\"}, {\"v\": \"XBC\"}, {\"v\": 641}, {\"v\": 48.9099}, {\"v\": 0.0058880132}, {\"v\": 92059.6}, {\"v\": 5369615.0}, {\"v\": 109786.0}, {\"v\": 109786.0}, {\"v\": 1000000.0}, {\"v\": -0.04}, {\"v\": 3.5}, {\"v\": 0.73}, {\"v\": 1526748243}, {\"v\": 11.0825852415}, {\"v\": 646.0}]}, {\"c\": [{\"v\": \"clams\"}, {\"v\": \"Clams\"}, {\"v\": \"CLAM\"}, {\"v\": 503}, {\"v\": 3.63417}, {\"v\": 0.0004374992}, {\"v\": 64207.8}, {\"v\": 11071548.0}, {\"v\": 3046514.0}, {\"v\": 16708840.0}, {\"v\": null}, {\"v\": 0.25}, {\"v\": 2.55}, {\"v\": -1.03}, {\"v\": 1526748243}, {\"v\": 7.7296492345}, {\"v\": 1333.0}]}, {\"c\": [{\"v\": \"unbreakablecoin\"}, {\"v\": \"UnbreakableCoin\"}, {\"v\": \"UNB\"}, {\"v\": 825}, {\"v\": 0.63112}, {\"v\": 7.59773e-05}, {\"v\": 10073.7}, {\"v\": 1437786.0}, {\"v\": 2278150.0}, {\"v\": 2278150.0}, {\"v\": null}, {\"v\": 0.53}, {\"v\": 3.53}, {\"v\": -2.24}, {\"v\": 1526748243}, {\"v\": 1.2127213126}, {\"v\": 173.0}]}, {\"c\": [{\"v\": \"triangles\"}, {\"v\": \"Triangles\"}, {\"v\": \"TRI\"}, {\"v\": 907}, {\"v\": 5.32896}, {\"v\": 0.0006415263}, {\"v\": 519.994}, {\"v\": 591052.0}, {\"v\": 110913.0}, {\"v\": 110913.0}, {\"v\": null}, {\"v\": -0.07}, {\"v\": -4.71}, {\"v\": -8.66}, {\"v\": 1526748243}, {\"v\": 0.0625994229}, {\"v\": 71.0}]}, {\"c\": [{\"v\": \"litecoin-plus\"}, {\"v\": \"Litecoin Plus\"}, {\"v\": \"LCP\"}, {\"v\": 923}, {\"v\": 0.34464}, {\"v\": 4.14895e-05}, {\"v\": 4023.51}, {\"v\": 488156.0}, {\"v\": 1416423.0}, {\"v\": 1416423.0}, {\"v\": 4000000.0}, {\"v\": 0.27}, {\"v\": 1.72}, {\"v\": -4.83}, {\"v\": 1526748243}, {\"v\": 0.4843698272}, {\"v\": 59.0}]}, {\"c\": [{\"v\": \"korecoin\"}, {\"v\": \"Kore\"}, {\"v\": \"KORE\"}, {\"v\": 616}, {\"v\": 3.10028}, {\"v\": 0.0003732269}, {\"v\": 16844.8}, {\"v\": 6270207.0}, {\"v\": 2022465.0}, {\"v\": 2022465.0}, {\"v\": 12000000.0}, {\"v\": -0.82}, {\"v\": 2.74}, {\"v\": 11.94}, {\"v\": 1526748243}, {\"v\": 2.0278594723}, {\"v\": 755.0}]}, {\"c\": [{\"v\": \"dreamcoin\"}, {\"v\": \"Dreamcoin\"}, {\"v\": \"DRM\"}, {\"v\": 1276}, {\"v\": 0.0122136}, {\"v\": 1.4703e-06}, {\"v\": 34.049}, {\"v\": 30225.0}, {\"v\": 2474679.0}, {\"v\": 2474679.0}, {\"v\": null}, {\"v\": -0.06}, {\"v\": -8.78}, {\"v\": -13.95}, {\"v\": 1526748243}, {\"v\": 0.0040989853}, {\"v\": 4.0}]}, {\"c\": [{\"v\": \"omni\"}, {\"v\": \"Omni\"}, {\"v\": \"OMNI\"}, {\"v\": 395}, {\"v\": 33.7171}, {\"v\": 0.0040590295}, {\"v\": 1206370.0}, {\"v\": 18915850.0}, {\"v\": 561017.0}, {\"v\": 617333.0}, {\"v\": null}, {\"v\": -0.64}, {\"v\": 1.3}, {\"v\": -3.98}, {\"v\": 1526748244}, {\"v\": 145.22872528}, {\"v\": 2277.0}]}, {\"c\": [{\"v\": \"exclusivecoin\"}, {\"v\": \"ExclusiveCoin\"}, {\"v\": \"EXCL\"}, {\"v\": 659}, {\"v\": 1.04653}, {\"v\": 0.0001259864}, {\"v\": 26189.2}, {\"v\": 4801564.0}, {\"v\": 4588081.0}, {\"v\": 4588081.0}, {\"v\": null}, {\"v\": -0.14}, {\"v\": 5.09}, {\"v\": 4.03}, {\"v\": 1526748244}, {\"v\": 3.1527840813}, {\"v\": 578.0}]}], \"cols\": [{\"type\": \"string\", \"id\": \"_NAME_\", \"label\": \"_NAME_\"}, {\"type\": \"string\", \"id\": \"Name\", \"label\": \"Name\"}, {\"type\": \"string\", \"id\": \"Symbol\", \"label\": \"Symbol\"}, {\"type\": \"number\", \"id\": \"Rank\", \"label\": \"Rank\"}, {\"type\": \"number\", \"id\": \"Price_Usd\", \"label\": \"Price_Usd\"}, {\"type\": \"number\", \"id\": \"Price_Btc\", \"label\": \"Price_Btc\"}, {\"type\": \"number\", \"id\": \"_24h_Volume_Usd\", \"label\": \"_24h_Volume_Usd\"}, {\"type\": \"number\", \"id\": \"Market_Cap_Usd\", \"label\": \"Market_Cap_Usd\"}, {\"type\": \"number\", \"id\": \"Available_Supply\", \"label\": \"Available_Supply\"}, {\"type\": \"number\", \"id\": \"Total_Supply\", \"label\": \"Total_Supply\"}, {\"type\": \"number\", \"id\": \"Max_Supply\", \"label\": \"Max_Supply\"}, {\"type\": \"number\", \"id\": \"Percent_Change_1h\", \"label\": \"Percent_Change_1h\"}, {\"type\": \"number\", \"id\": \"Percent_Change_24h\", \"label\": \"Percent_Change_24h\"}, {\"type\": \"number\", \"id\": \"Percent_Change_7d\", \"label\": \"Percent_Change_7d\"}, {\"type\": \"number\", \"id\": \"Last_Updated\", \"label\": \"Last_Updated\"}, {\"type\": \"number\", \"id\": \"_24h_Volume_Btc\", \"label\": \"_24h_Volume_Btc\"}, {\"type\": \"number\", \"id\": \"Market_Cap_Btc\", \"label\": \"Market_Cap_Btc\"}]},\n",
       "            {\n",
       "              pageSize: 25,\n",
       "              cssClassNames:  {\n",
       "                tableRow: 'gchart-table-row',\n",
       "                headerRow: 'gchart-table-headerrow',\n",
       "                oddTableRow: 'gchart-table-oddrow',\n",
       "                selectedTableRow: 'gchart-table-selectedrow',\n",
       "                hoverTableRow: 'gchart-table-hoverrow',\n",
       "                tableCell: 'gchart-table-cell',\n",
       "                headerCell: 'gchart-table-headercell',\n",
       "                rowNumberCell: 'gchart-table-rownumcell'\n",
       "              }\n",
       "            },\n",
       "            {source_index: 3, fields: '_NAME_,Name,Symbol,Rank,Price_Usd,Price_Btc,_24h_Volume_Usd,Market_Cap_Usd,Available_Supply,Total_Supply,Max_Supply,Percent_Change_1h,Percent_Change_24h,Percent_Change_7d,Last_Updated,_24h_Volume_Btc,Market_Cap_Btc'},\n",
       "            0,\n",
       "            235);\n",
       "        }\n",
       "      );\n",
       "    </script>\n",
       "  "
      ],
      "text/plain": [
       "QueryResultsTable job_5L4lxR2aeHJqCglVV5knwmkrNIhX"
      ]
     },
     "execution_count": 33,
     "metadata": {},
     "output_type": "execute_result"
    }
   ],
   "source": [
    "%%bq query\n",
    "where Available_Supply < 5000000"
   ]
  },
  {
   "cell_type": "code",
   "execution_count": 35,
   "metadata": {
    "collapsed": false
   },
   "outputs": [
    {
     "data": {
      "text/html": [
       "\n",
       "    <div class=\"bqtv\" id=\"7_152700562708\"><table><tr><th>_NAME_</th><th>Name</th><th>Symbol</th><th>Rank</th><th>Price_Usd</th><th>Price_Btc</th><th>_24h_Volume_Usd</th><th>Market_Cap_Usd</th><th>Available_Supply</th><th>Total_Supply</th><th>Max_Supply</th><th>Percent_Change_1h</th><th>Percent_Change_24h</th><th>Percent_Change_7d</th><th>Last_Updated</th><th>_24h_Volume_Btc</th><th>Market_Cap_Btc</th></tr><tr><td>global-jobcoin</td><td>Global Jobcoin</td><td>GJC</td><td>1029</td><td>0.311915</td><td>3.75499e-05</td><td>&nbsp;</td><td>4199934.0</td><td>13464995.0</td><td>25009995.0</td><td>&nbsp;</td><td>&nbsp;</td><td>4.65</td><td>958.76</td><td>1526732060</td><td>&nbsp;</td><td>506.0</td></tr><tr><td>global-cryptocurrency</td><td>Global Cryptocurrency</td><td>GCC</td><td>575</td><td>0.0091116</td><td>1.0969e-06</td><td>366624.0</td><td>7829066.0</td><td>859241647.0</td><td>1249488215.0</td><td>2400000000.0</td><td>3.38</td><td>6.73</td><td>577.43</td><td>1526748250</td><td>44.1359915923</td><td>943.0</td></tr><tr><td>wearesatoshi</td><td>WeAreSatoshi</td><td>WSX</td><td>1432</td><td>0.0190267</td><td>2.2905e-06</td><td>19179.0</td><td>&nbsp;</td><td>&nbsp;</td><td>&nbsp;</td><td>&nbsp;</td><td>-2.3</td><td>-13.86</td><td>450.74</td><td>1526748244</td><td>2.3088618932</td><td>&nbsp;</td></tr><tr><td>peepcoin</td><td>PeepCoin</td><td>PCN</td><td>511</td><td>0.000815107</td><td>9.81e-08</td><td>2117240.0</td><td>10499341.0</td><td>12880936120.0</td><td>52080936120.0</td><td>&nbsp;</td><td>-0.15</td><td>51.39</td><td>390.25</td><td>1526748254</td><td>254.883714211</td><td>1264.0</td></tr><tr><td>reecoin</td><td>ReeCoin</td><td>REE</td><td>876</td><td>0.000328645</td><td>3.96e-08</td><td>61366.7</td><td>841331.0</td><td>2560000000.0</td><td>6650666335.0</td><td>&nbsp;</td><td>9.78</td><td>19.35</td><td>305.0</td><td>1526748247</td><td>7.3876237105</td><td>101.0</td></tr></table></div>\n",
       "    <br />(rows: 5, time: 1.0s,   201KB processed, job: job_kW2WRnErASTe6ytUWtD76tuzjieB)<br />\n",
       "    <script src=\"/static/components/requirejs/require.js\"></script>\n",
       "    <script>\n",
       "      require.config({\n",
       "        paths: {\n",
       "          base: '/static/base',\n",
       "          d3: '//cdnjs.cloudflare.com/ajax/libs/d3/3.4.13/d3',\n",
       "          plotly: 'https://cdn.plot.ly/plotly-1.5.1.min.js?noext',\n",
       "          jquery: '//ajax.googleapis.com/ajax/libs/jquery/2.0.0/jquery.min'\n",
       "        },\n",
       "        map: {\n",
       "          '*': {\n",
       "            datalab: 'nbextensions/gcpdatalab'\n",
       "          }\n",
       "        },\n",
       "        shim: {\n",
       "          plotly: {\n",
       "            deps: ['d3', 'jquery'],\n",
       "            exports: 'plotly'\n",
       "          }\n",
       "        }\n",
       "      });\n",
       "\n",
       "      require(['datalab/charting', 'datalab/element!7_152700562708', 'base/js/events',\n",
       "          'datalab/style!/nbextensions/gcpdatalab/charting.css'],\n",
       "        function(charts, dom, events) {\n",
       "          charts.render('gcharts', dom, events, 'table', [], {\"rows\": [{\"c\": [{\"v\": \"global-jobcoin\"}, {\"v\": \"Global Jobcoin\"}, {\"v\": \"GJC\"}, {\"v\": 1029}, {\"v\": 0.311915}, {\"v\": 3.75499e-05}, {\"v\": null}, {\"v\": 4199934.0}, {\"v\": 13464995.0}, {\"v\": 25009995.0}, {\"v\": null}, {\"v\": null}, {\"v\": 4.65}, {\"v\": 958.76}, {\"v\": 1526732060}, {\"v\": null}, {\"v\": 506.0}]}, {\"c\": [{\"v\": \"global-cryptocurrency\"}, {\"v\": \"Global Cryptocurrency\"}, {\"v\": \"GCC\"}, {\"v\": 575}, {\"v\": 0.0091116}, {\"v\": 1.0969e-06}, {\"v\": 366624.0}, {\"v\": 7829066.0}, {\"v\": 859241647.0}, {\"v\": 1249488215.0}, {\"v\": 2400000000.0}, {\"v\": 3.38}, {\"v\": 6.73}, {\"v\": 577.43}, {\"v\": 1526748250}, {\"v\": 44.1359915923}, {\"v\": 943.0}]}, {\"c\": [{\"v\": \"wearesatoshi\"}, {\"v\": \"WeAreSatoshi\"}, {\"v\": \"WSX\"}, {\"v\": 1432}, {\"v\": 0.0190267}, {\"v\": 2.2905e-06}, {\"v\": 19179.0}, {\"v\": null}, {\"v\": null}, {\"v\": null}, {\"v\": null}, {\"v\": -2.3}, {\"v\": -13.86}, {\"v\": 450.74}, {\"v\": 1526748244}, {\"v\": 2.3088618932}, {\"v\": null}]}, {\"c\": [{\"v\": \"peepcoin\"}, {\"v\": \"PeepCoin\"}, {\"v\": \"PCN\"}, {\"v\": 511}, {\"v\": 0.000815107}, {\"v\": 9.81e-08}, {\"v\": 2117240.0}, {\"v\": 10499341.0}, {\"v\": 12880936120.0}, {\"v\": 52080936120.0}, {\"v\": null}, {\"v\": -0.15}, {\"v\": 51.39}, {\"v\": 390.25}, {\"v\": 1526748254}, {\"v\": 254.883714211}, {\"v\": 1264.0}]}, {\"c\": [{\"v\": \"reecoin\"}, {\"v\": \"ReeCoin\"}, {\"v\": \"REE\"}, {\"v\": 876}, {\"v\": 0.000328645}, {\"v\": 3.96e-08}, {\"v\": 61366.7}, {\"v\": 841331.0}, {\"v\": 2560000000.0}, {\"v\": 6650666335.0}, {\"v\": null}, {\"v\": 9.78}, {\"v\": 19.35}, {\"v\": 305.0}, {\"v\": 1526748247}, {\"v\": 7.3876237105}, {\"v\": 101.0}]}], \"cols\": [{\"type\": \"string\", \"id\": \"_NAME_\", \"label\": \"_NAME_\"}, {\"type\": \"string\", \"id\": \"Name\", \"label\": \"Name\"}, {\"type\": \"string\", \"id\": \"Symbol\", \"label\": \"Symbol\"}, {\"type\": \"number\", \"id\": \"Rank\", \"label\": \"Rank\"}, {\"type\": \"number\", \"id\": \"Price_Usd\", \"label\": \"Price_Usd\"}, {\"type\": \"number\", \"id\": \"Price_Btc\", \"label\": \"Price_Btc\"}, {\"type\": \"number\", \"id\": \"_24h_Volume_Usd\", \"label\": \"_24h_Volume_Usd\"}, {\"type\": \"number\", \"id\": \"Market_Cap_Usd\", \"label\": \"Market_Cap_Usd\"}, {\"type\": \"number\", \"id\": \"Available_Supply\", \"label\": \"Available_Supply\"}, {\"type\": \"number\", \"id\": \"Total_Supply\", \"label\": \"Total_Supply\"}, {\"type\": \"number\", \"id\": \"Max_Supply\", \"label\": \"Max_Supply\"}, {\"type\": \"number\", \"id\": \"Percent_Change_1h\", \"label\": \"Percent_Change_1h\"}, {\"type\": \"number\", \"id\": \"Percent_Change_24h\", \"label\": \"Percent_Change_24h\"}, {\"type\": \"number\", \"id\": \"Percent_Change_7d\", \"label\": \"Percent_Change_7d\"}, {\"type\": \"number\", \"id\": \"Last_Updated\", \"label\": \"Last_Updated\"}, {\"type\": \"number\", \"id\": \"_24h_Volume_Btc\", \"label\": \"_24h_Volume_Btc\"}, {\"type\": \"number\", \"id\": \"Market_Cap_Btc\", \"label\": \"Market_Cap_Btc\"}]},\n",
       "            {\n",
       "              pageSize: 25,\n",
       "              cssClassNames:  {\n",
       "                tableRow: 'gchart-table-row',\n",
       "                headerRow: 'gchart-table-headerrow',\n",
       "                oddTableRow: 'gchart-table-oddrow',\n",
       "                selectedTableRow: 'gchart-table-selectedrow',\n",
       "                hoverTableRow: 'gchart-table-hoverrow',\n",
       "                tableCell: 'gchart-table-cell',\n",
       "                headerCell: 'gchart-table-headercell',\n",
       "                rowNumberCell: 'gchart-table-rownumcell'\n",
       "              }\n",
       "            },\n",
       "            {source_index: 5, fields: '_NAME_,Name,Symbol,Rank,Price_Usd,Price_Btc,_24h_Volume_Usd,Market_Cap_Usd,Available_Supply,Total_Supply,Max_Supply,Percent_Change_1h,Percent_Change_24h,Percent_Change_7d,Last_Updated,_24h_Volume_Btc,Market_Cap_Btc'},\n",
       "            0,\n",
       "            5);\n",
       "        }\n",
       "      );\n",
       "    </script>\n",
       "  "
      ],
      "text/plain": [
       "QueryResultsTable job_kW2WRnErASTe6ytUWtD76tuzjieB"
      ]
     },
     "execution_count": 35,
     "metadata": {},
     "output_type": "execute_result"
    }
   ],
   "source": [
    "%%bq query\n",
    "#Which 5 coins have seen the greatest percentage growth in the last week\n",
    "SELECT * FROM `cryptotest-204616.cryptotest.cryptotest` \n",
    "order by Percent_Change_7d desc\n",
    "limit 5"
   ]
  },
  {
   "cell_type": "markdown",
   "metadata": {},
   "source": [
    "#How many ticker symbols contain the letter \"X\""
   ]
  },
  {
   "cell_type": "code",
   "execution_count": 37,
   "metadata": {
    "collapsed": false
   },
   "outputs": [
    {
     "data": {
      "text/html": [
       "\n",
       "    <div class=\"bqtv\" id=\"9_152700587352\"><table><tr><th>_NAME_</th><th>Name</th><th>Symbol</th><th>Rank</th><th>Price_Usd</th><th>Price_Btc</th><th>_24h_Volume_Usd</th><th>Market_Cap_Usd</th><th>Available_Supply</th><th>Total_Supply</th><th>Max_Supply</th><th>Percent_Change_1h</th><th>Percent_Change_24h</th><th>Percent_Change_7d</th><th>Last_Updated</th><th>_24h_Volume_Btc</th><th>Market_Cap_Btc</th></tr><tr><td>paycoin2</td><td>PayCoin</td><td>XPY</td><td>1117</td><td>0.0274495</td><td>3.3045e-06</td><td>&nbsp;</td><td>326504.0</td><td>11894709.0</td><td>11894709.0</td><td>&nbsp;</td><td>0.04</td><td>2.7</td><td>-23.86</td><td>1526745844</td><td>&nbsp;</td><td>39.0</td></tr><tr><td>nxt</td><td>Nxt</td><td>NXT</td><td>100</td><td>0.160651</td><td>1.934e-05</td><td>2752530.0</td><td>160490340.0</td><td>998999942.0</td><td>998999942.0</td><td>1000000000.0</td><td>-0.6</td><td>3.6</td><td>-6.76</td><td>1526748241</td><td>331.363033892</td><td>19321.0</td></tr><tr><td>joulecoin</td><td>Joulecoin</td><td>XJO</td><td>1106</td><td>0.0103857</td><td>1.2503e-06</td><td>40.168</td><td>371793.0</td><td>35798531.0</td><td>35798531.0</td><td>&nbsp;</td><td>-0.06</td><td>2.39</td><td>0.07</td><td>1526748241</td><td>0.0048356204</td><td>45.0</td></tr><tr><td>phoenixcoin</td><td>Phoenixcoin</td><td>PXC</td><td>1099</td><td>0.00697921</td><td>8.402e-07</td><td>194.884</td><td>463714.0</td><td>66442213.0</td><td>66442213.0</td><td>&nbsp;</td><td>-0.07</td><td>6.18</td><td>-5.11</td><td>1526748241</td><td>0.0234610898</td><td>56.0</td></tr><tr><td>ripple</td><td>Ripple</td><td>XRP</td><td>3</td><td>0.680318</td><td>8.19e-05</td><td>285390000.0</td><td>26661640812.0</td><td>39189968239.0</td><td>99992233977.0</td><td>1e+11</td><td>-0.22</td><td>1.96</td><td>-1.36</td><td>1526748241</td><td>34356.6450656</td><td>3209659.0</td></tr><tr><td>ixcoin</td><td>Ixcoin</td><td>IXC</td><td>647</td><td>0.244986</td><td>2.94926e-05</td><td>2114.64</td><td>5144492.0</td><td>20999126.0</td><td>20999126.0</td><td>&nbsp;</td><td>-0.07</td><td>14.43</td><td>28.0</td><td>1526748241</td><td>0.2545707135</td><td>619.0</td></tr><tr><td>primecoin</td><td>Primecoin</td><td>XPM</td><td>203</td><td>2.45875</td><td>0.0002959964</td><td>1560330.0</td><td>58184597.0</td><td>23664300.0</td><td>23664300.0</td><td>&nbsp;</td><td>-0.44</td><td>-1.03</td><td>3.76</td><td>1526748241</td><td>187.840162568</td><td>7005.0</td></tr><tr><td>sexcoin</td><td>Sexcoin</td><td>SXC</td><td>758</td><td>0.0199289</td><td>2.3991e-06</td><td>6413.41</td><td>2530454.0</td><td>126974089.0</td><td>126974089.0</td><td>&nbsp;</td><td>-3.64</td><td>1.67</td><td>17.59</td><td>1526748241</td><td>0.7720776868</td><td>305.0</td></tr><tr><td>petrodollar</td><td>PetroDollar</td><td>XPD</td><td>852</td><td>0.0166888</td><td>2.0091e-06</td><td>3964.44</td><td>1067971.0</td><td>63993275.0</td><td>63993275.0</td><td>&nbsp;</td><td>9.62</td><td>16.22</td><td>14.52</td><td>1526748242</td><td>0.4772586915</td><td>129.0</td></tr><tr><td>myriad</td><td>Myriad</td><td>XMY</td><td>482</td><td>0.00763265</td><td>9.189e-07</td><td>25215.2</td><td>12025087.0</td><td>1575480000.0</td><td>1575480000.0</td><td>&nbsp;</td><td>1.5</td><td>2.93</td><td>-8.82</td><td>1526748242</td><td>3.0355291939</td><td>1448.0</td></tr><tr><td>whitecoin</td><td>WhiteCoin</td><td>XWC</td><td>303</td><td>0.124338</td><td>1.49684e-05</td><td>267835.0</td><td>30954971.0</td><td>248958253.0</td><td>248958253.0</td><td>&nbsp;</td><td>0.5</td><td>21.77</td><td>108.47</td><td>1526748242</td><td>32.2432882412</td><td>3727.0</td></tr><tr><td>counterparty</td><td>Counterparty</td><td>XCP</td><td>261</td><td>14.723</td><td>0.0017724268</td><td>90662.4</td><td>38521063.0</td><td>2616387.0</td><td>2616387.0</td><td>&nbsp;</td><td>-0.25</td><td>3.09</td><td>-8.77</td><td>1526748242</td><td>10.9143834668</td><td>4637.0</td></tr><tr><td>stealth</td><td>Stealth</td><td>XST</td><td>545</td><td>0.315225</td><td>3.79483e-05</td><td>8888.26</td><td>9091248.0</td><td>28840504.0</td><td>28840504.0</td><td>&nbsp;</td><td>5.67</td><td>12.47</td><td>2.94</td><td>1526748243</td><td>1.0700122431</td><td>1094.0</td></tr><tr><td>digitalnote</td><td>DigitalNote</td><td>XDN</td><td>161</td><td>0.0129125</td><td>1.5545e-06</td><td>2246950.0</td><td>89184673.0</td><td>6906847847.0</td><td>6906847847.0</td><td>&nbsp;</td><td>-0.02</td><td>1.18</td><td>-3.85</td><td>1526748243</td><td>270.498838888</td><td>10736.0</td></tr><tr><td>bitcoin-plus</td><td>Bitcoin Plus</td><td>XBC</td><td>641</td><td>48.9099</td><td>0.0058880132</td><td>92059.6</td><td>5369615.0</td><td>109786.0</td><td>109786.0</td><td>1000000.0</td><td>-0.04</td><td>3.5</td><td>0.73</td><td>1526748243</td><td>11.0825852415</td><td>646.0</td></tr><tr><td>monero</td><td>Monero</td><td>XMR</td><td>12</td><td>199.238</td><td>0.0239852456</td><td>44871700.0</td><td>3197181704.0</td><td>16047048.0</td><td>16047048.0</td><td>&nbsp;</td><td>-0.31</td><td>2.82</td><td>-0.71</td><td>1526748243</td><td>5401.87487435</td><td>384892.0</td></tr><tr><td>cryptonite</td><td>Cryptonite</td><td>XCN</td><td>853</td><td>0.00256933</td><td>3.093e-07</td><td>4858.49</td><td>1065762.0</td><td>414801608.0</td><td>414801608.0</td><td>&nbsp;</td><td>-0.09</td><td>-1.36</td><td>-6.11</td><td>1526748243</td><td>0.5848888065</td><td>128.0</td></tr><tr><td>exclusivecoin</td><td>ExclusiveCoin</td><td>EXCL</td><td>659</td><td>1.04653</td><td>0.0001259864</td><td>26189.2</td><td>4801564.0</td><td>4588081.0</td><td>4588081.0</td><td>&nbsp;</td><td>-0.14</td><td>5.09</td><td>4.03</td><td>1526748244</td><td>3.1527840813</td><td>578.0</td></tr><tr><td>nexus</td><td>Nexus</td><td>NXS</td><td>135</td><td>1.94279</td><td>0.0002338826</td><td>323958.0</td><td>111388035.0</td><td>57334058.0</td><td>57334058.0</td><td>&nbsp;</td><td>0.16</td><td>1.96</td><td>-6.32</td><td>1526748244</td><td>38.99964968</td><td>13409.0</td></tr><tr><td>hexx</td><td>Hexx</td><td>HXX</td><td>357</td><td>13.4693</td><td>0.0016215003</td><td>208729.0</td><td>21851284.0</td><td>1622303.0</td><td>1622303.0</td><td>9999999.0</td><td>-2.9</td><td>-3.47</td><td>52.1</td><td>1526748245</td><td>25.1278186618</td><td>2631.0</td></tr><tr><td>nem</td><td>NEM</td><td>XEM</td><td>14</td><td>0.311718</td><td>3.75261e-05</td><td>12320600.0</td><td>2805462000.0</td><td>8999999999.0</td><td>8999999999.0</td><td>&nbsp;</td><td>0.26</td><td>3.12</td><td>-4.46</td><td>1526748245</td><td>1483.21413222</td><td>337735.0</td></tr><tr><td>transfercoin</td><td>TransferCoin</td><td>TX</td><td>605</td><td>1.03177</td><td>0.0001242095</td><td>107490.0</td><td>6675801.0</td><td>6470241.0</td><td>6470241.0</td><td>&nbsp;</td><td>0.79</td><td>2.71</td><td>-0.35</td><td>1526748245</td><td>12.9401723189</td><td>804.0</td></tr><tr><td>ratecoin</td><td>Ratecoin</td><td>XRA</td><td>1171</td><td>0.00149826</td><td>1.804e-07</td><td>307.206</td><td>183461.0</td><td>122449162.0</td><td>122449162.0</td><td>&nbsp;</td><td>-0.07</td><td>-7.68</td><td>-21.32</td><td>1526748245</td><td>0.0369829619</td><td>22.0</td></tr><tr><td>stellar</td><td>Stellar</td><td>XLM</td><td>8</td><td>0.322979</td><td>3.88818e-05</td><td>29215600.0</td><td>5999998858.0</td><td>18577055653.0</td><td>1.0394650238e+11</td><td>&nbsp;</td><td>-0.01</td><td>4.28</td><td>-5.09</td><td>1526748245</td><td>3517.11692624</td><td>722309.0</td></tr><tr><td>expanse</td><td>Expanse</td><td>EXP</td><td>451</td><td>1.84245</td><td>0.0002218031</td><td>140882.0</td><td>14567140.0</td><td>7906397.0</td><td>16906397.0</td><td>&nbsp;</td><td>-0.15</td><td>-1.66</td><td>-0.8</td><td>1526748246</td><td>16.9600647189</td><td>1754.0</td></tr></table></div>\n",
       "    <br />(rows: 198, time: 0.9s,   201KB processed, job: job_zkIMkyLrlTJfs7YM5IDUBLN-lngq)<br />\n",
       "    <script src=\"/static/components/requirejs/require.js\"></script>\n",
       "    <script>\n",
       "      require.config({\n",
       "        paths: {\n",
       "          base: '/static/base',\n",
       "          d3: '//cdnjs.cloudflare.com/ajax/libs/d3/3.4.13/d3',\n",
       "          plotly: 'https://cdn.plot.ly/plotly-1.5.1.min.js?noext',\n",
       "          jquery: '//ajax.googleapis.com/ajax/libs/jquery/2.0.0/jquery.min'\n",
       "        },\n",
       "        map: {\n",
       "          '*': {\n",
       "            datalab: 'nbextensions/gcpdatalab'\n",
       "          }\n",
       "        },\n",
       "        shim: {\n",
       "          plotly: {\n",
       "            deps: ['d3', 'jquery'],\n",
       "            exports: 'plotly'\n",
       "          }\n",
       "        }\n",
       "      });\n",
       "\n",
       "      require(['datalab/charting', 'datalab/element!9_152700587352', 'base/js/events',\n",
       "          'datalab/style!/nbextensions/gcpdatalab/charting.css'],\n",
       "        function(charts, dom, events) {\n",
       "          charts.render('gcharts', dom, events, 'paged_table', [], {\"rows\": [{\"c\": [{\"v\": \"paycoin2\"}, {\"v\": \"PayCoin\"}, {\"v\": \"XPY\"}, {\"v\": 1117}, {\"v\": 0.0274495}, {\"v\": 3.3045e-06}, {\"v\": null}, {\"v\": 326504.0}, {\"v\": 11894709.0}, {\"v\": 11894709.0}, {\"v\": null}, {\"v\": 0.04}, {\"v\": 2.7}, {\"v\": -23.86}, {\"v\": 1526745844}, {\"v\": null}, {\"v\": 39.0}]}, {\"c\": [{\"v\": \"nxt\"}, {\"v\": \"Nxt\"}, {\"v\": \"NXT\"}, {\"v\": 100}, {\"v\": 0.160651}, {\"v\": 1.934e-05}, {\"v\": 2752530.0}, {\"v\": 160490340.0}, {\"v\": 998999942.0}, {\"v\": 998999942.0}, {\"v\": 1000000000.0}, {\"v\": -0.6}, {\"v\": 3.6}, {\"v\": -6.76}, {\"v\": 1526748241}, {\"v\": 331.363033892}, {\"v\": 19321.0}]}, {\"c\": [{\"v\": \"joulecoin\"}, {\"v\": \"Joulecoin\"}, {\"v\": \"XJO\"}, {\"v\": 1106}, {\"v\": 0.0103857}, {\"v\": 1.2503e-06}, {\"v\": 40.168}, {\"v\": 371793.0}, {\"v\": 35798531.0}, {\"v\": 35798531.0}, {\"v\": null}, {\"v\": -0.06}, {\"v\": 2.39}, {\"v\": 0.07}, {\"v\": 1526748241}, {\"v\": 0.0048356204}, {\"v\": 45.0}]}, {\"c\": [{\"v\": \"phoenixcoin\"}, {\"v\": \"Phoenixcoin\"}, {\"v\": \"PXC\"}, {\"v\": 1099}, {\"v\": 0.00697921}, {\"v\": 8.402e-07}, {\"v\": 194.884}, {\"v\": 463714.0}, {\"v\": 66442213.0}, {\"v\": 66442213.0}, {\"v\": null}, {\"v\": -0.07}, {\"v\": 6.18}, {\"v\": -5.11}, {\"v\": 1526748241}, {\"v\": 0.0234610898}, {\"v\": 56.0}]}, {\"c\": [{\"v\": \"ripple\"}, {\"v\": \"Ripple\"}, {\"v\": \"XRP\"}, {\"v\": 3}, {\"v\": 0.680318}, {\"v\": 8.19e-05}, {\"v\": 285390000.0}, {\"v\": 26661640812.0}, {\"v\": 39189968239.0}, {\"v\": 99992233977.0}, {\"v\": 100000000000.0}, {\"v\": -0.22}, {\"v\": 1.96}, {\"v\": -1.36}, {\"v\": 1526748241}, {\"v\": 34356.6450656}, {\"v\": 3209659.0}]}, {\"c\": [{\"v\": \"ixcoin\"}, {\"v\": \"Ixcoin\"}, {\"v\": \"IXC\"}, {\"v\": 647}, {\"v\": 0.244986}, {\"v\": 2.94926e-05}, {\"v\": 2114.64}, {\"v\": 5144492.0}, {\"v\": 20999126.0}, {\"v\": 20999126.0}, {\"v\": null}, {\"v\": -0.07}, {\"v\": 14.43}, {\"v\": 28.0}, {\"v\": 1526748241}, {\"v\": 0.2545707135}, {\"v\": 619.0}]}, {\"c\": [{\"v\": \"primecoin\"}, {\"v\": \"Primecoin\"}, {\"v\": \"XPM\"}, {\"v\": 203}, {\"v\": 2.45875}, {\"v\": 0.0002959964}, {\"v\": 1560330.0}, {\"v\": 58184597.0}, {\"v\": 23664300.0}, {\"v\": 23664300.0}, {\"v\": null}, {\"v\": -0.44}, {\"v\": -1.03}, {\"v\": 3.76}, {\"v\": 1526748241}, {\"v\": 187.840162568}, {\"v\": 7005.0}]}, {\"c\": [{\"v\": \"sexcoin\"}, {\"v\": \"Sexcoin\"}, {\"v\": \"SXC\"}, {\"v\": 758}, {\"v\": 0.0199289}, {\"v\": 2.3991e-06}, {\"v\": 6413.41}, {\"v\": 2530454.0}, {\"v\": 126974089.0}, {\"v\": 126974089.0}, {\"v\": null}, {\"v\": -3.64}, {\"v\": 1.67}, {\"v\": 17.59}, {\"v\": 1526748241}, {\"v\": 0.7720776868}, {\"v\": 305.0}]}, {\"c\": [{\"v\": \"petrodollar\"}, {\"v\": \"PetroDollar\"}, {\"v\": \"XPD\"}, {\"v\": 852}, {\"v\": 0.0166888}, {\"v\": 2.0091e-06}, {\"v\": 3964.44}, {\"v\": 1067971.0}, {\"v\": 63993275.0}, {\"v\": 63993275.0}, {\"v\": null}, {\"v\": 9.62}, {\"v\": 16.22}, {\"v\": 14.52}, {\"v\": 1526748242}, {\"v\": 0.4772586915}, {\"v\": 129.0}]}, {\"c\": [{\"v\": \"myriad\"}, {\"v\": \"Myriad\"}, {\"v\": \"XMY\"}, {\"v\": 482}, {\"v\": 0.00763265}, {\"v\": 9.189e-07}, {\"v\": 25215.2}, {\"v\": 12025087.0}, {\"v\": 1575480000.0}, {\"v\": 1575480000.0}, {\"v\": null}, {\"v\": 1.5}, {\"v\": 2.93}, {\"v\": -8.82}, {\"v\": 1526748242}, {\"v\": 3.0355291939}, {\"v\": 1448.0}]}, {\"c\": [{\"v\": \"whitecoin\"}, {\"v\": \"WhiteCoin\"}, {\"v\": \"XWC\"}, {\"v\": 303}, {\"v\": 0.124338}, {\"v\": 1.49684e-05}, {\"v\": 267835.0}, {\"v\": 30954971.0}, {\"v\": 248958253.0}, {\"v\": 248958253.0}, {\"v\": null}, {\"v\": 0.5}, {\"v\": 21.77}, {\"v\": 108.47}, {\"v\": 1526748242}, {\"v\": 32.2432882412}, {\"v\": 3727.0}]}, {\"c\": [{\"v\": \"counterparty\"}, {\"v\": \"Counterparty\"}, {\"v\": \"XCP\"}, {\"v\": 261}, {\"v\": 14.723}, {\"v\": 0.0017724268}, {\"v\": 90662.4}, {\"v\": 38521063.0}, {\"v\": 2616387.0}, {\"v\": 2616387.0}, {\"v\": null}, {\"v\": -0.25}, {\"v\": 3.09}, {\"v\": -8.77}, {\"v\": 1526748242}, {\"v\": 10.9143834668}, {\"v\": 4637.0}]}, {\"c\": [{\"v\": \"stealth\"}, {\"v\": \"Stealth\"}, {\"v\": \"XST\"}, {\"v\": 545}, {\"v\": 0.315225}, {\"v\": 3.79483e-05}, {\"v\": 8888.26}, {\"v\": 9091248.0}, {\"v\": 28840504.0}, {\"v\": 28840504.0}, {\"v\": null}, {\"v\": 5.67}, {\"v\": 12.47}, {\"v\": 2.94}, {\"v\": 1526748243}, {\"v\": 1.0700122431}, {\"v\": 1094.0}]}, {\"c\": [{\"v\": \"digitalnote\"}, {\"v\": \"DigitalNote\"}, {\"v\": \"XDN\"}, {\"v\": 161}, {\"v\": 0.0129125}, {\"v\": 1.5545e-06}, {\"v\": 2246950.0}, {\"v\": 89184673.0}, {\"v\": 6906847847.0}, {\"v\": 6906847847.0}, {\"v\": null}, {\"v\": -0.02}, {\"v\": 1.18}, {\"v\": -3.85}, {\"v\": 1526748243}, {\"v\": 270.498838888}, {\"v\": 10736.0}]}, {\"c\": [{\"v\": \"bitcoin-plus\"}, {\"v\": \"Bitcoin Plus\"}, {\"v\": \"XBC\"}, {\"v\": 641}, {\"v\": 48.9099}, {\"v\": 0.0058880132}, {\"v\": 92059.6}, {\"v\": 5369615.0}, {\"v\": 109786.0}, {\"v\": 109786.0}, {\"v\": 1000000.0}, {\"v\": -0.04}, {\"v\": 3.5}, {\"v\": 0.73}, {\"v\": 1526748243}, {\"v\": 11.0825852415}, {\"v\": 646.0}]}, {\"c\": [{\"v\": \"monero\"}, {\"v\": \"Monero\"}, {\"v\": \"XMR\"}, {\"v\": 12}, {\"v\": 199.238}, {\"v\": 0.0239852456}, {\"v\": 44871700.0}, {\"v\": 3197181704.0}, {\"v\": 16047048.0}, {\"v\": 16047048.0}, {\"v\": null}, {\"v\": -0.31}, {\"v\": 2.82}, {\"v\": -0.71}, {\"v\": 1526748243}, {\"v\": 5401.87487435}, {\"v\": 384892.0}]}, {\"c\": [{\"v\": \"cryptonite\"}, {\"v\": \"Cryptonite\"}, {\"v\": \"XCN\"}, {\"v\": 853}, {\"v\": 0.00256933}, {\"v\": 3.093e-07}, {\"v\": 4858.49}, {\"v\": 1065762.0}, {\"v\": 414801608.0}, {\"v\": 414801608.0}, {\"v\": null}, {\"v\": -0.09}, {\"v\": -1.36}, {\"v\": -6.11}, {\"v\": 1526748243}, {\"v\": 0.5848888065}, {\"v\": 128.0}]}, {\"c\": [{\"v\": \"exclusivecoin\"}, {\"v\": \"ExclusiveCoin\"}, {\"v\": \"EXCL\"}, {\"v\": 659}, {\"v\": 1.04653}, {\"v\": 0.0001259864}, {\"v\": 26189.2}, {\"v\": 4801564.0}, {\"v\": 4588081.0}, {\"v\": 4588081.0}, {\"v\": null}, {\"v\": -0.14}, {\"v\": 5.09}, {\"v\": 4.03}, {\"v\": 1526748244}, {\"v\": 3.1527840813}, {\"v\": 578.0}]}, {\"c\": [{\"v\": \"nexus\"}, {\"v\": \"Nexus\"}, {\"v\": \"NXS\"}, {\"v\": 135}, {\"v\": 1.94279}, {\"v\": 0.0002338826}, {\"v\": 323958.0}, {\"v\": 111388035.0}, {\"v\": 57334058.0}, {\"v\": 57334058.0}, {\"v\": null}, {\"v\": 0.16}, {\"v\": 1.96}, {\"v\": -6.32}, {\"v\": 1526748244}, {\"v\": 38.99964968}, {\"v\": 13409.0}]}, {\"c\": [{\"v\": \"hexx\"}, {\"v\": \"Hexx\"}, {\"v\": \"HXX\"}, {\"v\": 357}, {\"v\": 13.4693}, {\"v\": 0.0016215003}, {\"v\": 208729.0}, {\"v\": 21851284.0}, {\"v\": 1622303.0}, {\"v\": 1622303.0}, {\"v\": 9999999.0}, {\"v\": -2.9}, {\"v\": -3.47}, {\"v\": 52.1}, {\"v\": 1526748245}, {\"v\": 25.1278186618}, {\"v\": 2631.0}]}, {\"c\": [{\"v\": \"nem\"}, {\"v\": \"NEM\"}, {\"v\": \"XEM\"}, {\"v\": 14}, {\"v\": 0.311718}, {\"v\": 3.75261e-05}, {\"v\": 12320600.0}, {\"v\": 2805462000.0}, {\"v\": 8999999999.0}, {\"v\": 8999999999.0}, {\"v\": null}, {\"v\": 0.26}, {\"v\": 3.12}, {\"v\": -4.46}, {\"v\": 1526748245}, {\"v\": 1483.21413222}, {\"v\": 337735.0}]}, {\"c\": [{\"v\": \"transfercoin\"}, {\"v\": \"TransferCoin\"}, {\"v\": \"TX\"}, {\"v\": 605}, {\"v\": 1.03177}, {\"v\": 0.0001242095}, {\"v\": 107490.0}, {\"v\": 6675801.0}, {\"v\": 6470241.0}, {\"v\": 6470241.0}, {\"v\": null}, {\"v\": 0.79}, {\"v\": 2.71}, {\"v\": -0.35}, {\"v\": 1526748245}, {\"v\": 12.9401723189}, {\"v\": 804.0}]}, {\"c\": [{\"v\": \"ratecoin\"}, {\"v\": \"Ratecoin\"}, {\"v\": \"XRA\"}, {\"v\": 1171}, {\"v\": 0.00149826}, {\"v\": 1.804e-07}, {\"v\": 307.206}, {\"v\": 183461.0}, {\"v\": 122449162.0}, {\"v\": 122449162.0}, {\"v\": null}, {\"v\": -0.07}, {\"v\": -7.68}, {\"v\": -21.32}, {\"v\": 1526748245}, {\"v\": 0.0369829619}, {\"v\": 22.0}]}, {\"c\": [{\"v\": \"stellar\"}, {\"v\": \"Stellar\"}, {\"v\": \"XLM\"}, {\"v\": 8}, {\"v\": 0.322979}, {\"v\": 3.88818e-05}, {\"v\": 29215600.0}, {\"v\": 5999998858.0}, {\"v\": 18577055653.0}, {\"v\": 103946502380.0}, {\"v\": null}, {\"v\": -0.01}, {\"v\": 4.28}, {\"v\": -5.09}, {\"v\": 1526748245}, {\"v\": 3517.11692624}, {\"v\": 722309.0}]}, {\"c\": [{\"v\": \"expanse\"}, {\"v\": \"Expanse\"}, {\"v\": \"EXP\"}, {\"v\": 451}, {\"v\": 1.84245}, {\"v\": 0.0002218031}, {\"v\": 140882.0}, {\"v\": 14567140.0}, {\"v\": 7906397.0}, {\"v\": 16906397.0}, {\"v\": null}, {\"v\": -0.15}, {\"v\": -1.66}, {\"v\": -0.8}, {\"v\": 1526748246}, {\"v\": 16.9600647189}, {\"v\": 1754.0}]}], \"cols\": [{\"type\": \"string\", \"id\": \"_NAME_\", \"label\": \"_NAME_\"}, {\"type\": \"string\", \"id\": \"Name\", \"label\": \"Name\"}, {\"type\": \"string\", \"id\": \"Symbol\", \"label\": \"Symbol\"}, {\"type\": \"number\", \"id\": \"Rank\", \"label\": \"Rank\"}, {\"type\": \"number\", \"id\": \"Price_Usd\", \"label\": \"Price_Usd\"}, {\"type\": \"number\", \"id\": \"Price_Btc\", \"label\": \"Price_Btc\"}, {\"type\": \"number\", \"id\": \"_24h_Volume_Usd\", \"label\": \"_24h_Volume_Usd\"}, {\"type\": \"number\", \"id\": \"Market_Cap_Usd\", \"label\": \"Market_Cap_Usd\"}, {\"type\": \"number\", \"id\": \"Available_Supply\", \"label\": \"Available_Supply\"}, {\"type\": \"number\", \"id\": \"Total_Supply\", \"label\": \"Total_Supply\"}, {\"type\": \"number\", \"id\": \"Max_Supply\", \"label\": \"Max_Supply\"}, {\"type\": \"number\", \"id\": \"Percent_Change_1h\", \"label\": \"Percent_Change_1h\"}, {\"type\": \"number\", \"id\": \"Percent_Change_24h\", \"label\": \"Percent_Change_24h\"}, {\"type\": \"number\", \"id\": \"Percent_Change_7d\", \"label\": \"Percent_Change_7d\"}, {\"type\": \"number\", \"id\": \"Last_Updated\", \"label\": \"Last_Updated\"}, {\"type\": \"number\", \"id\": \"_24h_Volume_Btc\", \"label\": \"_24h_Volume_Btc\"}, {\"type\": \"number\", \"id\": \"Market_Cap_Btc\", \"label\": \"Market_Cap_Btc\"}]},\n",
       "            {\n",
       "              pageSize: 25,\n",
       "              cssClassNames:  {\n",
       "                tableRow: 'gchart-table-row',\n",
       "                headerRow: 'gchart-table-headerrow',\n",
       "                oddTableRow: 'gchart-table-oddrow',\n",
       "                selectedTableRow: 'gchart-table-selectedrow',\n",
       "                hoverTableRow: 'gchart-table-hoverrow',\n",
       "                tableCell: 'gchart-table-cell',\n",
       "                headerCell: 'gchart-table-headercell',\n",
       "                rowNumberCell: 'gchart-table-rownumcell'\n",
       "              }\n",
       "            },\n",
       "            {source_index: 6, fields: '_NAME_,Name,Symbol,Rank,Price_Usd,Price_Btc,_24h_Volume_Usd,Market_Cap_Usd,Available_Supply,Total_Supply,Max_Supply,Percent_Change_1h,Percent_Change_24h,Percent_Change_7d,Last_Updated,_24h_Volume_Btc,Market_Cap_Btc'},\n",
       "            0,\n",
       "            198);\n",
       "        }\n",
       "      );\n",
       "    </script>\n",
       "  "
      ],
      "text/plain": [
       "QueryResultsTable job_zkIMkyLrlTJfs7YM5IDUBLN-lngq"
      ]
     },
     "execution_count": 37,
     "metadata": {},
     "output_type": "execute_result"
    }
   ],
   "source": [
    "%%bq query\n",
    "SELECT * FROM `cryptotest-204616.cryptotest.cryptotest`\n",
    "where Symbol like \"%X%\"\n"
   ]
  },
  {
   "cell_type": "code",
   "execution_count": null,
   "metadata": {
    "collapsed": true
   },
   "outputs": [],
   "source": []
  }
 ],
 "metadata": {
  "kernelspec": {
   "display_name": "Python 2",
   "language": "python",
   "name": "python2"
  },
  "language_info": {
   "codemirror_mode": {
    "name": "ipython",
    "version": 2
   },
   "file_extension": ".py",
   "mimetype": "text/x-python",
   "name": "python",
   "nbconvert_exporter": "python",
   "pygments_lexer": "ipython2",
   "version": "2.7.15"
  }
 },
 "nbformat": 4,
 "nbformat_minor": 2
}
